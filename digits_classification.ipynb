{
  "nbformat": 4,
  "nbformat_minor": 0,
  "metadata": {
    "colab": {
      "name": "digits_classification.ipynb",
      "version": "0.3.2",
      "provenance": [],
      "collapsed_sections": []
    },
    "kernelspec": {
      "name": "python3",
      "display_name": "Python 3"
    }
  },
  "cells": [
    {
      "metadata": {
        "id": "wSrBMb1qD5rm",
        "colab_type": "text"
      },
      "cell_type": "markdown",
      "source": [
        "# MNIST digits classification with TensorFlow"
      ]
    },
    {
      "metadata": {
        "id": "uEbUQJKPEFpM",
        "colab_type": "text"
      },
      "cell_type": "markdown",
      "source": [
        "### Import needed libiares"
      ]
    },
    {
      "metadata": {
        "id": "S-CKcnXX30wh",
        "colab_type": "code",
        "colab": {
          "base_uri": "https://localhost:8080/",
          "height": 52
        },
        "outputId": "fc823f54-829c-419f-d1b6-8b6cfabed7d8"
      },
      "cell_type": "code",
      "source": [
        "import numpy as np\n",
        "from sklearn.metrics import accuracy_score\n",
        "from matplotlib import pyplot as plt\n",
        "%matplotlib inline\n",
        "import tensorflow as tf\n",
        "import keras\n",
        "import matplotlib_utils # from coursera\n",
        "from importlib import reload\n",
        "reload(matplotlib_utils)"
      ],
      "execution_count": 1,
      "outputs": [
        {
          "output_type": "stream",
          "text": [
            "Using TensorFlow backend.\n"
          ],
          "name": "stderr"
        },
        {
          "output_type": "execute_result",
          "data": {
            "text/plain": [
              "<module 'matplotlib_utils' from '/content/matplotlib_utils.py'>"
            ]
          },
          "metadata": {
            "tags": []
          },
          "execution_count": 1
        }
      ]
    },
    {
      "metadata": {
        "id": "EJsTHqYCEPRC",
        "colab_type": "text"
      },
      "cell_type": "markdown",
      "source": [
        "### Load data set and explore it"
      ]
    },
    {
      "metadata": {
        "id": "OSMXKDgK36KG",
        "colab_type": "code",
        "colab": {}
      },
      "cell_type": "code",
      "source": [
        "def load_dataset():\n",
        "    #load mnist data set from from keras\n",
        "    (X_train, y_train), (X_test, y_test) = keras.datasets.mnist.load_data()\n",
        "\n",
        "    # normalize x\n",
        "    X_train = X_train.astype(float) / 255.\n",
        "    X_test = X_test.astype(float) / 255.\n",
        "\n",
        "    # reserve the last 10000 training examples for validation\n",
        "    X_train, X_val = X_train[:-10000], X_train[-10000:]\n",
        "    y_train, y_val = y_train[:-10000], y_train[-10000:]\n",
        "\n",
        "    return X_train, y_train, X_val, y_val, X_test, y_test"
      ],
      "execution_count": 0,
      "outputs": []
    },
    {
      "metadata": {
        "id": "YBYlr2UV8LA_",
        "colab_type": "code",
        "colab": {
          "base_uri": "https://localhost:8080/",
          "height": 52
        },
        "outputId": "7ef57e4a-efe7-4b41-c049-47c24832a24b"
      },
      "cell_type": "code",
      "source": [
        "X_train, y_train, X_val, y_val, X_test, y_test = load_dataset()"
      ],
      "execution_count": 3,
      "outputs": [
        {
          "output_type": "stream",
          "text": [
            "Downloading data from https://s3.amazonaws.com/img-datasets/mnist.npz\n",
            "11493376/11490434 [==============================] - 0s 0us/step\n"
          ],
          "name": "stdout"
        }
      ]
    },
    {
      "metadata": {
        "id": "ckLhGC4L368Y",
        "colab_type": "code",
        "colab": {
          "base_uri": "https://localhost:8080/",
          "height": 52
        },
        "outputId": "3af31f96-bc22-4852-bc81-8b519d65c5de"
      },
      "cell_type": "code",
      "source": [
        "# shape of our data\n",
        "print(\"X_train shape: %s\" % (str(X_train.shape)))\n",
        "print(\"y_train shape: %s\" % (str(y_train.shape)))"
      ],
      "execution_count": 4,
      "outputs": [
        {
          "output_type": "stream",
          "text": [
            "X_train shape: (50000, 28, 28)\n",
            "y_train shape: (50000,)\n"
          ],
          "name": "stdout"
        }
      ]
    },
    {
      "metadata": {
        "id": "GGpg2OA2Ehzr",
        "colab_type": "code",
        "colab": {
          "base_uri": "https://localhost:8080/",
          "height": 283
        },
        "outputId": "fe3e86ea-ed47-41b1-8ab5-257dd0701579"
      },
      "cell_type": "code",
      "source": [
        "#print image 0 in X_train\n",
        "plt.imshow(X_train[0])"
      ],
      "execution_count": 5,
      "outputs": [
        {
          "output_type": "execute_result",
          "data": {
            "text/plain": [
              "<matplotlib.image.AxesImage at 0x7fb41a01b400>"
            ]
          },
          "metadata": {
            "tags": []
          },
          "execution_count": 5
        },
        {
          "output_type": "display_data",
          "data": {
            "image/png": "[encoded data removed]",
            "text/plain": [
              "<Figure size 432x288 with 1 Axes>"
            ]
          },
          "metadata": {
            "tags": []
          }
        }
      ]
    },
    {
      "metadata": {
        "id": "SJU7gttjEnIr",
        "colab_type": "code",
        "colab": {
          "base_uri": "https://localhost:8080/",
          "height": 283
        },
        "outputId": "b2f20fed-dc39-4e9e-f15e-9db040d23304"
      },
      "cell_type": "code",
      "source": [
        "#print image 0 in X_test\n",
        "plt.imshow(X_test[0])"
      ],
      "execution_count": 6,
      "outputs": [
        {
          "output_type": "execute_result",
          "data": {
            "text/plain": [
              "<matplotlib.image.AxesImage at 0x7fb417fa1c50>"
            ]
          },
          "metadata": {
            "tags": []
          },
          "execution_count": 6
        },
        {
          "output_type": "display_data",
          "data": {
            "image/png": "[encoded data removed]",
            "text/plain": [
              "<Figure size 432x288 with 1 Axes>"
            ]
          },
          "metadata": {
            "tags": []
          }
        }
      ]
    },
    {
      "metadata": {
        "id": "HGghEooa36_h",
        "colab_type": "code",
        "colab": {
          "base_uri": "https://localhost:8080/",
          "height": 52
        },
        "outputId": "f19de4bb-6618-4651-b46b-ad686e30c07b"
      },
      "cell_type": "code",
      "source": [
        "#flat our images from 3 dim to 1 so we can easily use it as input in TF\n",
        "X_train_flat = X_train.reshape((X_train.shape[0], -1))\n",
        "print(X_train_flat.shape)\n",
        "\n",
        "X_val_flat = X_val.reshape((X_val.shape[0], -1))\n",
        "print(X_val_flat.shape)"
      ],
      "execution_count": 7,
      "outputs": [
        {
          "output_type": "stream",
          "text": [
            "(50000, 784)\n",
            "(10000, 784)\n"
          ],
          "name": "stdout"
        }
      ]
    },
    {
      "metadata": {
        "id": "6P3u6ImX37Cs",
        "colab_type": "code",
        "colab": {
          "base_uri": "https://localhost:8080/",
          "height": 87
        },
        "outputId": "02773214-9710-4af9-e421-e56113a91b6a"
      },
      "cell_type": "code",
      "source": [
        "#there are 10 clases, we use one-hot encoding on the output\n",
        "y_train_oh = keras.utils.to_categorical(y_train, 10)\n",
        "y_val_oh = keras.utils.to_categorical(y_val, 10)\n",
        "\n",
        "print(y_train_oh.shape)\n",
        "\n",
        "#example after conversion\n",
        "print(y_train_oh[:3], y_train[:3])"
      ],
      "execution_count": 8,
      "outputs": [
        {
          "output_type": "stream",
          "text": [
            "(50000, 10)\n",
            "[[0. 0. 0. 0. 0. 1. 0. 0. 0. 0.]\n",
            " [1. 0. 0. 0. 0. 0. 0. 0. 0. 0.]\n",
            " [0. 0. 0. 0. 1. 0. 0. 0. 0. 0.]] [5 0 4]\n"
          ],
          "name": "stdout"
        }
      ]
    },
    {
      "metadata": {
        "id": "8HZ6BUm5Ec4q",
        "colab_type": "text"
      },
      "cell_type": "markdown",
      "source": [
        "### Define our model"
      ]
    },
    {
      "metadata": {
        "id": "TAh7soYaAs7e",
        "colab_type": "code",
        "colab": {}
      },
      "cell_type": "code",
      "source": [
        "#Get a new TF session\n",
        "s = tf.Session()"
      ],
      "execution_count": 0,
      "outputs": []
    },
    {
      "metadata": {
        "id": "m7ALnH-m37Fz",
        "colab_type": "code",
        "colab": {
          "base_uri": "https://localhost:8080/",
          "height": 280
        },
        "outputId": "f8d46700-9bc7-4bfb-bab2-c0d80924c93a"
      },
      "cell_type": "code",
      "source": [
        "\n",
        "input_X = tf.placeholder(tf.float32, [None, 784]) #input for our images, with batch_size None, and each image of size 784\n",
        "input_y = tf.placeholder(tf.float32, [None, 10]) #outpur class, each output of size 10 from one-hot encoding\n",
        "\n",
        "nn = tf.layers.dense(input_X, 256, activation=tf.nn.sigmoid)#first Dense layer with 256 nodes\n",
        "\n",
        "nn = tf.layers.dense(nn, 256, activation=tf.nn.sigmoid)#second Dense layer with 256 nodes also\n",
        "\n",
        "logits = tf.layers.dense(nn, 10)#we have 10 classes, so last dense layer with 10 nodes\n",
        "\n",
        "probas = tf.nn.softmax(logits)#a softmax layer for computing probabilites\n",
        "\n",
        "classes = tf.argmax(probas, axis=1)#class with maximium probability\n",
        "\n",
        "loss = tf.reduce_mean(tf.nn.softmax_cross_entropy_with_logits(logits=logits,labels=input_y))#our loss function with cross_entropy\n",
        "\n",
        "step = tf.train.AdamOptimizer().minimize(loss)#using adam optimizer to minimize the loss"
      ],
      "execution_count": 10,
      "outputs": [
        {
          "output_type": "stream",
          "text": [
            "WARNING:tensorflow:From <ipython-input-10-ac7c66df52d8>:5: dense (from tensorflow.python.layers.core) is deprecated and will be removed in a future version.\n",
            "Instructions for updating:\n",
            "Use keras.layers.dense instead.\n",
            "WARNING:tensorflow:From /usr/local/lib/python3.6/dist-packages/tensorflow/python/framework/op_def_library.py:263: colocate_with (from tensorflow.python.framework.ops) is deprecated and will be removed in a future version.\n",
            "Instructions for updating:\n",
            "Colocations handled automatically by placer.\n",
            "WARNING:tensorflow:From <ipython-input-10-ac7c66df52d8>:15: softmax_cross_entropy_with_logits (from tensorflow.python.ops.nn_ops) is deprecated and will be removed in a future version.\n",
            "Instructions for updating:\n",
            "\n",
            "Future major versions of TensorFlow will allow gradients to flow\n",
            "into the labels input on backprop by default.\n",
            "\n",
            "See `tf.nn.softmax_cross_entropy_with_logits_v2`.\n",
            "\n"
          ],
          "name": "stdout"
        }
      ]
    },
    {
      "metadata": {
        "id": "C62ekgck37Im",
        "colab_type": "code",
        "colab": {
          "base_uri": "https://localhost:8080/",
          "height": 309
        },
        "outputId": "9ca7e914-80b9-4bc4-eefb-acc101972c9b"
      },
      "cell_type": "code",
      "source": [
        "#initialize global variables\n",
        "s.run(tf.global_variables_initializer())\n",
        "\n",
        "BATCH_SIZE = 512\n",
        "EPOCHS = 10\n",
        "\n",
        "#for plotting\n",
        "simpleTrainingCurves = matplotlib_utils.SimpleTrainingCurves(\"cross-entropy\", \"accuracy\")\n",
        "\n",
        "for epoch in range(EPOCHS):  # we finish an epoch when we've looked at all training samples\n",
        "    batch_losses = []\n",
        "    #break our data into batches\n",
        "    for batch_start in range(0, X_train_flat.shape[0], BATCH_SIZE):  \n",
        "        _, batch_loss = s.run([step, loss], {input_X: X_train_flat[batch_start:batch_start+BATCH_SIZE], \n",
        "                                             input_y: y_train_oh[batch_start:batch_start+BATCH_SIZE]})\n",
        "        # collect batch losses\n",
        "        batch_losses.append(batch_loss)\n",
        "        \n",
        "    #plot info. for each epoch\n",
        "    train_loss = np.mean(batch_losses)\n",
        "    val_loss = s.run(loss, {input_X: X_val_flat, input_y: y_val_oh})  # this part is usually small\n",
        "    train_accuracy = accuracy_score(y_train, s.run(classes, {input_X: X_train_flat}))  # this is slow and usually skipped\n",
        "    valid_accuracy = accuracy_score(y_val, s.run(classes, {input_X: X_val_flat}))  \n",
        "    simpleTrainingCurves.add(train_loss, val_loss, train_accuracy, valid_accuracy)"
      ],
      "execution_count": 11,
      "outputs": [
        {
          "output_type": "display_data",
          "data": {
            "text/html": [
              "<img src=\"data:image/jpeg;base64,/9j/4AAQSkZJRgABAQEASABIAAD/2wBDAAIBAQEBAQIBAQECAgICAgQDAgICAgUEBAMEBgUGBgYFBgYGBwkIBgcJBwYGCAsICQoKCgoKBggLDAsKDAkKCgr/2wBDAQICAgICAgUDAwUKBwYHCgoKCgoKCgoKCgoKCgoKCgoKCgoKCgoKCgoKCgoKCgoKCgoKCgoKCgoKCgoKCgoKCgr/wAARCAEgA2ADASIAAhEBAxEB/8QAHwAAAQUBAQEBAQEAAAAAAAAAAAECAwQFBgcICQoL/8QAtRAAAgEDAwIEAwUFBAQAAAF9AQIDAAQRBRIhMUEGE1FhByJxFDKBkaEII0KxwRVS0fAkM2JyggkKFhcYGRolJicoKSo0NTY3ODk6Q0RFRkdISUpTVFVWV1hZWmNkZWZnaGlqc3R1dnd4eXqDhIWGh4iJipKTlJWWl5iZmqKjpKWmp6ipqrKztLW2t7i5usLDxMXGx8jJytLT1NXW19jZ2uHi4%2BTl5ufo6erx8vP09fb3%2BPn6/8QAHwEAAwEBAQEBAQEBAQAAAAAAAAECAwQFBgcICQoL/8QAtREAAgECBAQDBAcFBAQAAQJ3AAECAxEEBSExBhJBUQdhcRMiMoEIFEKRobHBCSMzUvAVYnLRChYkNOEl8RcYGRomJygpKjU2Nzg5OkNERUZHSElKU1RVVldYWVpjZGVmZ2hpanN0dXZ3eHl6goOEhYaHiImKkpOUlZaXmJmaoqOkpaanqKmqsrO0tba3uLm6wsPExcbHyMnK0tPU1dbX2Nna4uPk5ebn6Onq8vP09fb3%2BPn6/9oADAMBAAIRAxEAPwD9/KKKKACiiigAooooAKKKKACiiigAooooAKKKKACiiigAooooAKKKKACiiigAooooAKKKKACiiigAooooAKKKKACiiigAooooAKKKKACiiigAooooAKKKKACiiigAooooAKKKKACiiigAooooAKKKKACiiigAooooAKKKKACiiigAooooAKKKKACiiigAooooAKKKKACiiigAooooAKKKKACiiigAooooAKKKKACiiigAooooAKKKKACiiigAooooAKKKKACiiigAooooAKKKKACiiigAooooAKKKKACiiigAooooAKKKKACiiigAooooAKKKKACiiigAooooAKKKKACiiigAooooAKKKKACiiigDxPxd/wAFFP2PvAmoXmn%2BK/ipc2gs9UbTReHwpqj2l5eLfw6fJb2lwlsYb2SO7nigkW3eQxOxD7drY2j%2B2f8As6R%2BObL4c3XjHUbfVLy6sLNlu/Cmpw29le3sUctpY3dw9sIbG8lSWIraXDxzkzRjy8uoPiVz%2Bxn%2B1bH4C8N/s66Zqfw9HgXwn8W9N8V22tXOo3r6rqtnb%2BLrXWxbyQC1EVrLHAlxFvEswuJFiJ%2Bzqzbeh8cfsffGzXfGPi3wPoup%2BFv%2BEA8c/F7QfHuq61dalcrrOnvp8mlTyWEVqtu0Mwll0mLbcNcRmJLhh5TmNSwB6Fa/t1fsv3cGr3w8f30Nno2n3N7LqV54U1OC0vYLedLeZ7G4ktli1HbNJHHi1aYlpEAB3rns/hT8ZfAXxp0m91fwJc6njTdQNlqVnrfh690q8tJxGkuyW1voYZ48xyxupZAGVwQSDmvmbTf2IPj5a6t4mtbTwl8ONN8MazoOp22reBV8Za1feHfFN5cXcEsdw2mTwCPQGCJcEvZyTnzLkMRL5Q3egfs4/sm%2BOvDGmXP/AAu3xl4hhgsfFa6n4L8M6H8ZPEOpQaLbC3tla2mvpmtZtTheeGSUQXUbxRLKY1BQnIB0kX7eP7Kk0fiC6HxNlW18N6Jqur32oy%2BHdQS0urLTSRfzWVw1uItSFuRiQWjTFSQCMkZ5vx3/AMFL/wBmXwh4Vl8TaPd%2BJtceDxF4b0yXTdP8Dav9qeLW78WdnfwxNaB7m1crO0c8IeOZoTFEzyvGjeKaH/wSx%2BI%2BjfBrXPgl5eiXX9m/DfxR4c8C%2BK9W%2BK/ia/LzajZT2VtI%2Bkz5sdLUQzFZjALjJGY0j4A7z4//ALEPxs8d%2BOH%2BIfw%2B1Pwo9zp/hz4cxaTp2r6nc20dzfeG/FE2szxSyRW0phhlidIklVJGDliYsAbgD1V/25/2ZFtteu4/G%2BpzJ4b8Sf8ACPakLbwfqsrPq/nPCdOt1S1JvLsOhJggEkgQrIV2MrGpqn/BQX9lDSbTRp5PH%2Bq3U%2Bv2Wq3WmaXpfgnWLy/ZNMuIrfUFks4LR7iGW3lmRZIpI1kT5iVwjleFtv2OvjToXha08QaFfeFZvFegftCaz8R9G0y61O5j0%2B%2Bgvl1C3NnPcrbNJDILbUZSJFhlCyxJ8rCvMNI%2BEf7S3wX/AG5vCGqeD9N8Dav478U%2BA/iX4l1jSNT128tdItftmt%2BFwlvBdpZyzN5Srb5kNuvnFZfli8wbQD6jsf2yP2adU8Gaz8QtK%2BKVvd6PoNxpMGoXtpY3MoLapDaTaeYVWMtcrcJfWvlvCHVmkKZ3I6r6bXwN8Nv2Q7XwR%2B1Z8Ff2dvBXxLsNdsPh58M9Ff432dmnD3ugLu8PPKqki2klutRnuUjf52i06PGVQGvvmgAooooAKKKKACiiigAooooAKKKKACiiigAooooAKKKKACiiigAooooAKKKKACiiigAooooAKKKKACiiigAooooAKKKKACiiigArzb4q/tdfs/fBPxlH4D%2BJPje4stR%2By2l1efZ9Bvru3023urh7a2nvbi3geGwilmjkRJLl41YxvgnY2PSa%2BQ/28f2Kv2o/2pNZ8Z6N4R%2BIWn/8I5rvhC0s/DFtqHxB1rSoNGvoXnkm8/TtPi8jU47ljApluZG8hVJWCXbscA9gh/br/ZUku9btpviqtrFoGn6hfXeoahot7bWVzb2EywXslndSwrDqAhldI3%2ByvKVd1U8sAdDwJ%2B2B%2Bz78R/EmneC/DXjC%2Bj1vVNTutPt9D1fwzqOnX0Vzb2kd5LHPb3dvHLbH7NLHMvnKgkSRShbIrwzQ/wBjX9rW8/ZXP7IXiDWvh5pWgaLpEn9ga1ZX99qF3qF9FqUN9YC5R7e3W2hjMRinKNO1xuDqIOYz1/jH4S/tp%2BNfiB4H%2BPWqaH8ME1/wZ4l1CS08HQeJtQWzGmXel/ZHLambAyTXAnHnAfY408s%2BVnK%2BawB2uh/t0/steJddsPDmh/EuW4utR0KfWotnh7UBFDpsM9zbzXk8pg8u1gSa0njaSZkUMEBP72Le3w9%2B3Z%2By74m8J6741sviFe21l4dsdPvdSj1fwrqdhctbX8jRWM0Ftc20c13Hcyq0UDQJIJpAUjLN8teO/s%2BfsI/tK/Bjw3q7xfFHwvY%2BKLj4J3fhXR/EWlxzSrY61Jq2rX0V6IZYgDAn263baWJ3RuuCAGbkrH/gnN%2B1HceNNR%2BImoa74div59G8Iz2dvrXxT1/xIw1jw7r39rQrLc6hbB/st3vlR/JSJbU7WjgmJY0AfUHw9/bC/Z2%2BJ%2Buy%2BF/Cnj%2BRdTttLvdQvdN1fRL3Tbizgs5Yorrz47uGJoHia4ty8UgWRVnicrskRj2nw98e%2BFvip4C0T4m%2BBr%2BS70XxFpNvqWkXU1nLbtNazxrLE5imVJIyUZTtdVYZwQDxXxx%2B3H8PfjP8Ybb4c/D3xh4x8IaH8UvFXjTUNFj8PeD724unh8D6lZNaa0vnSpDLMYoUS7N2YYIxPDbRBdxQyfbOnadYaRp8Gk6XZx29rawrDbW8KBUijUAKqgcAAAAD2oAmooooAKKKKACiiigAooooAKKKKACiiigAooooAKKKKACiiigAooooAKKKKACiiigAooooAKKKKACiiigAooooAKKKKACiiigArx/4A%2BL/AIsal8ffi/4F%2BJHj2HWrLQtZ02Tw5b2%2BkRWkem2tzaGUW425eUgbd0kjsWfeVEaFY09grznwn%2Byr8IPBPxL1b4ueHW8Wx67rtwk%2BrzXHxG1u4guXThN1tLeNBtUfKqhAqr8oAXigDjv2XfFfxi1r4u%2BMPDfiL4yXHxA8N6Jp1naX3iOXQbSwtIfEizXIv7HTxbxqz28KCBXEr3DxSHyjPJIkyp7R4i1C/wBNskn08W5cyhSLiQKMYJ6lhzxXIfA39mf4T/s5aUmg/CePxJbafDZra2%2Bnat461fVbeCNTkCOK%2BupkiOcksoDHJyTmsD46/HOz8G/HPwB8BL3TkP8AwnGka7f2l6ZsMk%2BnfYSIQuOQ8d3M5OePJHB3HEyqU6TTm7JtL5t2X4nXg8Bi8xqSp4ePNKMJza/u04uc38opv5M7X/hLPEv/ADz0v/wLT/45R/wlniX/AJ56X/4Fp/8AHK5eiu72cexw3Z1H/CWeJf8Annpf/gWn/wAcqW08TeIZ5SkqaaAInYbLlCchCR/y06ZAz7VyVWtH/wCPt/8Ar1n/APRT0nTjYLs3v%2BEs8S/889L/APAtP/jlH/CWeJf%2Beel/%2BBaf/HK5ein7OPYLs6j/AISzxL/zz0v/AMC0/wDjlH/CWeJf%2Beel/wDgWn/xyuXoo9nHsF2dbe%2BJvENvezQQpppRJWVS9ygOAcDIMnBqL/hLPEv/ADz0v/wLT/45WDrn/IavP%2BvqT/0I1VpKnGwXZ1H/AAlniX/nnpf/AIFp/wDHKP8AhLPEv/PPS/8AwLT/AOOVy9FP2cewXZ1t34m8QwShIk00gxIx33KA5KAn/lp0yTj2qL/hLPEv/PPS/wDwLT/45WDrH/H2n/XrB/6KSqtJU42C7Oo/4SzxL/zz0v8A8C0/%2BOUf8JZ4l/556X/4Fp/8crl6Kfs49guzrX8TeIVso5wmm72ldWBuUxgBSMHzOvJ/T1qL/hLPEv8Azz0v/wAC0/8AjlcN8RPiX8OfhT4ItvFHxR8f6J4a0w6jJANR1/VYbOAyskZVPMmZV3EKcDOTg%2BlcD/w27%2Bxf/wBHd/C//wAL7Tv/AI9XNUr4KjLlqVIxfZyin9zkn%2BB62DyLPsxo%2B2wmErVYXtzQpVZxut1zQpTV11V7rqke7/8ACWeJf%2Beel/8AgWn/AMco/wCEs8S/889L/wDAtP8A45XhH/Dbv7F//R3fwv8A/C%2B07/49XaeAfiX8OfitoR8UfC7x/oniXTBO0B1HQNVhvIBKoBZPMhZl3AMMjORketOlXwVaXLTqRk%2BylFv7lJv8BYzIs%2By6j7bF4StShe3NOlVhG72XNOlBXfRXu%2BiZ6Rb%2BJvEMkU7umm5jiDJtuUIzvUc/vOBgn8cVF/wlniX/AJ56X/4Fp/8AHK8G8Rfto/Bn4d/EzxT8JvGx16zutGsdHUXUHhXULuK9utQml8i1gNvA/mykW/ATJZmKgFkcBde/a5%2BDml6he6Dba9LHqVjfwW7Q6zompWUNyH1O302R7aZrRlu1S4uIoy0O9A8kYd41fzBtyQuzyrs94/4SzxL/AM89L/8AAtP/AI5R/wAJZ4l/556X/wCBaf8AxyvEPh9%2B1n8CfinqL6V4C8TalqE62wuYlXwtqUYuYftQtXlgaS3UXCRzsElaIsIScyFBzWL%2B0L%2B1PqXwT1nVbTRPhzFrtn4T8FyeLfG91NrZtHsNJSSRd1vGIJftU7Lb3biJmiXFvjzAXAp8kLBdn0dZeJvENxewwTJpoR5VVilyhOCcHAEnJqL/AISzxL/zz0v/AMC0/wDjleQ/Fj41a58HfE3gVdM%2BHMutWfiTxvpujahqX9qR28WlrdXUNukpUhnmcvKCsaqFKpIWkQhQ/GfD39q/VPiB8afGPwrsvDfhH/ikdSvLQ6db%2BP1fxBfCCGJxMmmPaoiRu8qoHa5Cg8k9qXJDmsO7sfSP/CWeJf8Annpf/gWn/wAco/4SzxL/AM89L/8AAtP/AI5XzVpf7UXxH1v9m69%2BP8Pwn8O6ZJoWreIrXxTpWv8AjaeKKwi0jUb2ymlSe30%2Bczsxs2fYI1xvwGbALTS/tI/GLw7qngpPiT%2BzvbaFY%2BKrzStLu2/4TFLi8t9UvLZppIbe3S2xcw27KySzO8LYjlkWIomWfJAV2fR//CWeJf8Annpf/gWn/wAcqW78TeIYJQkSaaQYkY77lAclAT/y06ZJx7V8y%2BGv22fCuv33xIu38HXiaJ4H%2BwjRdTguVll8TvdST28aWsO1cGS7ga3hyxE5dHXCupMFz%2B1r8Zte%2BGHw4%2BLXh34DeG5YvHtrotsNGu/iBPHe299c4EsMSppjpcRwQpJcNKXjJjhlOwbAWXJC49T6c/4SzxL/AM89L/8AAtP/AI5R/wAJZ4l/556X/wCBaf8Axyvlf4k/tseJPgzrWq6X8Vfgvb6WDol5qPhhY/Fsc0t0I9VstLt0vgIRFp/2ma/t3jYSzjyxMW2tEULvHv7cS/D39nO3%2BNF14H0bXdXvr24i0zRfCHjSLUrG%2Bgt3Yz3kV%2BkIHkRwozszwqwk2w7d8ibnyQDU%2Bpv%2BEs8S/wDPPS//AALT/wCOVK/ibxCtlHOE03e0rqwNymMAKRg%2BZ15P6etfOHjv9rG5%2BG3jT4k6L4t%2BFN9Do/w9%2BHJ8XRapDqUUs%2BswItyZY4bdR%2B7ANuyqzuGdt3yKoV3o6z%2B21L4Q%2BFfiy58b/Dyw/wCEy8JXMCWvhTw34n/tCLVpb2zjuLNIrpreIruCSmRmixFHBJN80YDFOEA1Ppj/AISzxL/zz0v/AMC0/wDjlH/CWeJf%2Beel/wDgWn/xyvm69/bGsIvGnwn8C6Z4Bmvbz4j20F1qzQ6gBH4dgn027vLcyHZmZ5ns5440wm4QzOWXYEfg/h3/AMFJLn4maYE8N/CrRLjVr670O002ztfHPm29jealJcr/AGfq0ws86bfQC2bzbZY52VnjQElxl8lMWp9m/wDCWeJf%2Beel/wDgWn/xytTw3q2p6p539orajZt2fZpVbrnOcMcdBXivwN%2BLFn8a/hvbePbTT47SQ6hqGnX9rBeC5ihvLG9nsbpI5gqiaMT28oSTau9QrbVzgerfDb/l9/7Z/wDs1TUhFQuhpu51FFFFcxQUUUUAFFc34L%2BMfwh%2BJOj6h4h%2BHfxU8N6/YaTM8Oq32i65b3UNnIi7nSV4nZY2VeSGIIHJrN/4aW/ZyHw6PxfPx/8ABP8AwiS3YtT4o/4Sqz/s4TkgCL7T5nlb8kDbuzk9KAO2rmfEHjLVNJ1ebT7eC3ZI9u0ujZ5UHs3vXRWl3aX9rFf2FzHPBPGskM0LhkkQjIZSOCCDkEVw/jP/AJGW5/4B/wCgLWtKKlLUT2LX/Cw9a/59bX/vhv8A4qj/AIWHrX/Pra/98N/8VXj3iL9rn9lHwfrt34X8W/tO/DzS9TsJ2gvtO1HxpYwT20qnDJJG8oZGB6ggEVT/AOG3f2L/APo7v4X/APhfad/8eqHi8ti7OrBP/HH/AOTPbp8L8VVYKcMvxDi0mmqFdpp6ppqi0000002mtU2j23/hYetf8%2Btr/wB8N/8AFVM/jvWF0%2BK7FvbbnmkQjY2MKEI/i/2jXjHh39rn9lHxhrtp4X8JftO/DzVNTv51gsdO07xpYzz3MrHCpHGkpZ2J6AAk10Hx%2B%2BMOgfAD4B618ZvE%2Bm395Y%2BHba5u5rTTLSSeebCxBUVI1ZuWIBbGFBLNhQSNadTC11elKMkuzT/Js4MdluaZZUUMbQqUpNXSqQnBtbXSnCDavpdJq%2Bl7noP/AAsPWv8An1tf%2B%2BG/%2BKo/4WHrX/Pra/8AfDf/ABVeJL%2B2H8CJrTUruy1PxJdjSNWGmahFY%2BAdZnljvPKkmaARx2jO7pHGzSBQfKBTzNvmJuzrn9uL9nvTbudL7xr9rheSM6P/AMI7o2papNfQtpltqRkEVtaMTi2uo5f3ZkXyzuLAh0TXkpdjhuz37/hYetf8%2Btr/AN8N/wDFVNbeO9YnguJWt7YGGEOuEbk71X%2B9/tGvMb/4z%2BAbP4Z6t8XodRnuNA0fQ21ebUIrKQR3FmLQXYlgd1VZ1MRB3ISM5UkMrAYfwG%2BP/ijx7deKPCnxM%2BGkPhnW9H8JaT4gNhp2ttqaSaffyzrAS/kQkTrJY3KPEFZQUUq7hxgcKa6Bdnsn/Cw9a/59bX/vhv8A4qj/AIWHrX/Pra/98N/8VXx1cf8ABSS7svA%2BmeJtX%2BGvhfTbvxBp3hzWNDj1T4iiKyTSdYmmjiuLy6Fk32WSIwnzEWOWP512TP8AMV6jxR%2B23e%2BE7qKS88GeGb3TNN8L6R4g8W61pPjoz2sFjqWoXFlbyac5s1/tHabaSR932cANGEMjSAUuWl2DU%2Bnf%2BFh61/z62v8A3w3/AMVU2neO9YvNQgtJLe2CyzKjEI2QCQP71fPq/tP614W%2BKV54L%2BM/w6s/CmkL4b1vX7DWW8SLdzJp2mXVvBLcXkCQhbVZVuUmi2SzEorh/LdSldR%2ByV8b9R/aF8D2fxG1X4e3fha4/wCEo1HTZNEv7oS3EH2PUZrUGUhVCSMIQzRjcI2YpufbvI4U7bBdnqn/AAsPWv8An1tf%2B%2BG/%2BKo/4WHrX/Pra/8AfDf/ABVYNFV7OHYLs3v%2BFh61/wA%2Btr/3w3/xVH/Cw9a/59bX/vhv/iqwaKPZw7BdnSX3jvWLWdYkt7YgwxvyjdWRWP8AF71D/wALD1r/AJ9bX/vhv/iqy9Y/4%2B0/69YP/RSVVpKnC2wXZvf8LD1r/n1tf%2B%2BG/wDiqP8AhYetf8%2Btr/3w3/xVYNFP2cOwXZ0l1471iCC3lW3tiZoS7ZRuDvZf73%2ByKh/4WHrX/Pra/wDfDf8AxVZeof8AHpY/9ep/9GyVVpKnC2wXZvf8LD1r/n1tf%2B%2BG/wDiqP8AhYetf8%2Btr/3w3/xVYNFP2cOwXZ0ieO9YbT5bs29tuSaNANjYwwcn%2BL/ZFQ/8LD1r/n1tf%2B%2BG/wDiqy4f%2BQLcf9fUP/oMtVaSpw7Bdm9/wsPWv%2BfW1/74b/4qj/hYetf8%2Btr/AN8N/wDFVg0U/Zw7BdnSWPjvWLqdont7YAQyPwjdVRmH8XtUP/Cw9a/59bX/AL4b/wCKrL0f/j7f/r1n/wDRT1VpezhfYLs3v%2BFh61/z62v/AHw3/wAVR/wsPWv%2BfW1/74b/AOKrBop%2Bzh2C7N7/AIWHrX/Pra/98N/8VU2o%2BO9Ys9QntI7e2KxTMiko2SASP71c3VrXP%2BQ1ef8AX1J/6EaXs4X2C7NT/hYetf8APra/98N/8VR/wsPWv%2BfW1/74b/4queubm2s7d7u8uEiijUtJLI4VVA6kk8AV4x8U/wDgot%2BxJ8HHe28aftH%2BHGukO1rDRro6lcBuyGO0EjKxPZgKwxFfA4SHNXnGC/vNL82v1PWyjIc%2Bz%2Bv7DK8LVrz7U6c6j%2BfJGVvm0fRH/Cw9a/59bX/vhv8A4qum8P6jPq2kQ6hcKivJu3BAQOGI7/SvzZ%2BKH/BcL4W%2BHWks/hp8CfEepzKhaG48YalaeHbacf3o2uXaSQewjzX2j%2BwN8edQ/ab/AGTPCnxw1Sw0y1n1w35kttIuZJrePyb%2B4gCq8iIznEQydoG7dtyuCfMoZ1lGOxDw%2BFqKUkruydrbbtLujrzfhrM8ggv7QlShUbt7L29Cddb%2B9KjTrVakIq1nKahZtK13Zew0UUV3HghRRRQAUUUUAFFFFABRRRQAUUUUAFFFFABRRRQAUUUUAFFFFABRRRQAV8df8FVY2%2BHnxF/Z3/adjconhT4rroWoyg4ENhrFubeeRv8AZHkoD/vCvsWvmr/grt8Np/il/wAE/fiDodgjfbNP00axYPH99JbE/awUxzuIhK8f3sd683N6c6mW1XD4ormXrBqa/wDSbfM%2B48NsXh8Lx1gY4h2pVp%2BwqP8A6d4iM8PN/JV0/wDt09ForkvgH8SoPjJ8D/CHxXt3UjxH4astRcL0V5oEdl9iGJBHYiutr36VSFalGpDaSTXo0mvwZ8ZjcJXy/GVcLXVp05ShJdpQlKMl8nFhVrR/%2BPt/%2BvWf/wBFPVWrWj/8fb/9es//AKKeqexzFWiiimAUUUUAWtc/5DV5/wBfUn/oRqrVrXP%2BQ1ef9fUn/oRqrSWyAKKKKYFrWP8Aj7T/AK9YP/RSVVq1rH/H2n/XrB/6KSqtJbAFFFFMDO%2BInw0%2BHPxW8EW3hf4o%2BANE8S6YNRknGna/pUN5AJVSMK/lzKy7gGODjIyfWuB/4Yi/Yv8A%2BjRPhf8A%2BEDp3/xmuj/aD/aL%2BDf7L/wqtfiX8c/GP9h6I2sNZre/2fcXOZ3RSibLeOR%2BQjc4xxyeleF/8Pmv%2BCa//RyH/ln6z/8AIdePjMVkFGvy4ydJT/v8l7dPiTduxpHjevw%2BvqkM0lh18XIsROktevLGrBa235dbbux6j/wxF%2Bxf/wBGifC//wAIHTv/AIzXaeAfhp8OfhToR8L/AAu8AaJ4a0wztOdO0DSobOAysAGfy4VVdxCjJxk4HpXz1/w%2Ba/4Jr/8ARyH/AJZ%2Bs/8AyHXtXwC/aL%2BDf7UHgRviX8DPGP8AbmiLfSWbXv8AZ9xbYnQKXTZcRxvwHXnGOeD1p4LFZBWr8uDnSc7P4OS9uvwpO3cJcb1%2BIF9UnmksQvi5HiJ1Vp15ZVZrS%2B/LpfdXOZ8W/sn6n40%2BO8/xng%2BI9vaWCzaBf3GivoTSzPcaZNdhNtx9oVVSRL4gqYmIaMMGIO0eVR/8EyL6Px7D46X4xaKtwLuc6heR%2BAguoarA/iDTtaQ3l39s33Fwj6csAlYbBHIdsKEHd7nrX7UXgDwh4p1r4e6ro%2BstrFtrOk6Rb2MFtEz3xvlE8d1CPMG6BI4LxpGO1x9guNqPtTf4rrP/AAU38EeItOsr/wCGGn%2BV9k12e38Uwag9jqUtvZ/8I5reqwyw/wBn6g8JlMulbDDJMjgCRWWMukg9P3bu5Gp6J8Lf2VNW%2BE%2Bp%2BEdZ0P4kW1xceFfCepaFi60Fil0l5qdneyS4W4BRlS1aJRlhulDnIQxu/wDaF/ZX1D426xql3o3xGj0Kz8V%2BDJPCXji0l0U3b6hpLyO223kE0f2WcLPdoJWWVQLgnyyVU1z7/ttXviD4leB/Bfw8%2BGWsX2m654tvdF1XXrqzt47e8lttAvtRkt7L/TN8c6z28MRM6iIgTKrtt8xe1%2BNPxJ%2BJum%2BLvBvws%2BEx0XTdc8Vi/uZb/wAT6bLe29lbWkCu6mG3uIS8jSzQICJQqqXb58BTXu2DUd8Z/gt8Y/jC3hjSfCXxY8MaF/Y3jax1vfqHgi4v/NNpeQ3FrDhNRg24MZWRsnzNwKiLGDlap%2Bzt8Stc%2BKOleP8AWPi3oktr4b1u91zw3YxeCBDPFqNxpk%2Bn/wCkzx3Q%2B02yrczMIgkcrYiDTt5e5snxr%2B1N8Urf9g%2Bz/bB%2BE/hXQI9ZPgiDxPPpviGaaW2tVFp9pliAh2NOwYeUPnjHzb93y7G0Pjb%2B0l4o8E/G/wAEfCP4e6Hp99FqHiG0t/G%2Bo3odhpttdRz/AGaGIIyj7TK0Lyc7gkUJ3LmaI0tL3DUpeD/2UPiJY/Be/wDg548%2BMWjanDffEk%2BKnvNI8HS2QaOXxIddvLF45L%2BfekrPJbB9w2xvllkOc6vif9nj4ieJ/wBoab4waj8TdBu9FOlppmnaBqHhW6e60mzdcXn2S7i1GJYZ7gk7rjyC6qkaDIQ7sK0%2BPfxl8CeK/HcXxF1vwx4p0rwpBp%2Bnafb%2BGPCtzpl3qHiO92yQ6Whn1C5Vj5U1kSxCqPtqsSFjesLT/j5%2B1X4m%2BBXgL4g6P4h%2BH1l4m8V6ymhyeH5PCF9dw3N%2BLy4SeWCYalC0cMVpbz3DBkdttvIQckID3Q1Nfw1/wTh%2BA3hzxXqGqpqXi59JktdHj0LSI/iFr0baQ%2BnpdRxtFcC/8zGy5Kog2rGF%2BX73HSfC/wDY/s/g5pnwt8M2/wAQr7VLL4a6VdeXHqPnzvfXl1bJEtyJJ7iRoRHHJcoseXAW4IUoFweL%2BFH7V/xS%2BNXi/wAS6D4L1jwdbSFtfg8JaPrPh3VoJQdN1RbA3TXeTBqcZw8ssNsI5IDJBCzEu0icp4g/4KB/FRbe08NyX/hyw1drjX5JPEGpfDvW/KOn6RBpgY3GjxTNfaa7SanFuedyEgha4KFJo1pXimGp3K/sZ/EDXbPxtZfEf4u%2BG9ak8X6tFqg1ZfAk8d9BcWl%2Bl5pcMjyajLFLZ2hjRBbLFEJBvYssksrvn%2BL/APgnF4P%2BJPgbxTD4%2B8f6ifGfiqbUZbrxN4bvNS0iztvtZt/Mjj0%2B3vwrxH7LbsySySF3QuzZIAtWH7VHxa1jx7b6noNj4TvfCOpePp/B2lWiC4F1JdppMl2t8b0SNGYHuYmgEa25YRss3mEgxHM0v9pj9pG%2B%2BIafAdNS8B3mvXXiuDRx4y0/w9etpFlOuk3moX1obY3vmXM9ubaCMss8Q/01SyK0Lxs/dDU7t/2efiuvxx1T4m2Xxn0i30a/8Fp4bt9LPhGa41C2gj%2B0PDOb25v5I5plln3MZbdlkVNpXLF65fRf%2BCbPwwbwJqP/AAm19aR6/qV3cCx1D4e2l54VsdMX7Ctqois7G9ywIluHfzJX3tcyj5UbaLPwv/af%2BLvj/wAbfCm31Dwx4cstC8a%2BH9UOueVJPLdpq1jlZkgyVSO2V0O1m8x5BJ0i8vMnM/BL9sf9oT43aJqum6Xb%2BFra8tvDsGupLP4M1cJpqPdNFcRW8azM3iRVihby7mxMUMr7AG/eqAnysNTfsf8AgnN8KtKu/Aes6T4y8V2%2Bp%2BEdV0%2B%2B1W7TxlrJj1p7TSJdNjzA18YoW2tExba%2BUjaJgyyvmt4a/YQ8TaD4Lk8LX3xV8Naq1p4P0Twro8OqfDeKfTpdJ024klSPUbSS6YXssgkIaSN7cIRujRCWB5jwz%2B298YNauPDmo%2BK9e8NeF/D9zpl/NrHiG4%2BGusX8DSW%2Bt3Gnr5xivEGi7oIY5ZI7xma2klaKU7o2FdT8L/2rfih8ZfiD4o8LeC9X8HWsiXPiPT/Ceja5oGq28pn0rUhp5uWvsm21CMukkskFuI5YVkgRmJZ2V%2B4Gp658Avg9pnwG%2BFOnfDLS72O5FrcXl3d3MFkttFLdXd1Nd3DxwqSsEZmnkKRAkIpVcnbk%2Bs/Db/l9/wC2f/s1eC/spfGXxf8AGfwv4jvPGf2OS40HxZPpMN3baBdaPJdRJb20wkm068kkubCTdOyiOZtzokc6gJMgr3r4bf8AL7/2z/8AZqmpb2egLc6iiiiuQsK5r4zeHfEfjD4P%2BK/CXg68%2Bz6vqnhq%2BtNKuPM2eVcy27pE27%2BHDspz2xXS0UAfF3gvwPH8VvCXxG8Nah8HfH/h7w74i/Zt0XwRLpUXg64sr2S/tLfWftdtbJdRpCXhivreKKV2FvO77EkdY2xxbeAP2gfEfxNT9o7xX4m8b2XhweOvMbU/C/wXubbUUmXwwbFdRh0K9hvLhELE2TSSxSucuyhIWSSP9BaKAOK/ZuPjc/s8eA/%2BFmeEbLw/4j/4Q3TP7e0LTbZYLfTrz7LH51vFGhKxoj7kCKSFCgAkDJXxbJpa%2BILgXFncO/ybmS5VQfkXsUP867SuD8Z/8jLc/wDAP/QFraj8QpbHmXiL9kv9jfxhrt34o8W/speBtU1O/nae%2B1HUfC2nTz3MrHLPJI9sWdiepJJNU/8Ahij9hX/ozT4c/wDhGaZ/8i1598Rf%2BCrH7A/wn8d6t8NPiB8ef7P1vQ76Sz1Sy/4RfVZfInQ4ZN8dqyNg91JHvWL/AMPmv%2BCa/wD0ch/5Z%2Bs//IdeRUxvCsajU6lHmu73dO9%2Bt7q973v5lLxLxWGXsVnc48vu8v1uqrW0tZV0la1rJK1rWVrHs/h39kv9jfwfrtp4o8JfspeBtL1OwnWex1HTvC2nQT20qnKvHIlsGRgehBBFbn7Qnww0344fs%2BeIvhHBqU%2BlP4i029sbfUmC3AtJXiQLK0fyeaobaSgZCQCNwzkeLfDr/gqx%2BwP8WPHek/DT4f8Ax5/tDW9cvo7PS7L/AIRfVYvPnc4VN8lqqLk92IHvXt3xc%2BJehfB74UTfEfxRZ3k2m6beg6g1lGjNbwPJbxvcMGZR5USuZZDnIjjcgMQFPoYGrldem3gpQcb68nLa9uvKkr279CZcR1eI37aeMeJ5NOZ1ZVeXra8p1Gu9k13t1PFfFv7DD%2BM9AttL1/x/pGoO/jzUvEmsWWr%2BD1vNLvDe25hZBZSXBAliZjJDLI8qoesbnmqX7P3/AAT6T4KXehXmq/Fo6y%2Bh6WLBPI0H7IJY08P6fo0ZOZ5cMEsFlY9GMhUBQMnY%2BKf/AAUM%2BCHwfnnl8XaXq6afba/e6VLq7XWmwQO9m0CXMkK3F5HLdLHLM8Rjgjkm320wERAQvj%2BEP27iNZ1Pw94w8K3epaunibVNJ0PQfDGlxrLfmLxNquk2wWa6vFj8ww6f5socRouyRw%2BGES9toXJ1PVPAfwJ0XQ/2cbf9mjx1qj61o8Hgm28Mm4s4fscstqmnx2kzPuaUbnYSOMYCK6od5Uu1X4D/AAG8Z/DbWNY8ceM/iha%2BItcv9C0fRb29i8PmzjbSNOe4aCJY/tEm26ae9nle4JKENtECgAiD9lr42%2BKPjv8ADhvGnibwXNpcjeINfs4z5aRpHHZa3fWEMLoZpHFwIbWNpTjyy7tsOPlXnf2c/wBpX4mfEXxlo8HjOz0EaD8QvCWta34Uh0yxniutNhsNTsIUiupHmdbl5oLyOQskcIjaJ0w4YMG%2BWwalDwD%2Bxbr/AMOrvWPGnhz4ieFrbxbftp8dtqdl8M7W2sZIraeaZ5byzhmX7ReXDzlpbmGW2%2BaGExpGFZXpap/wT/0vXvD3h7wf4g8ZaLqGm2eoXt/4gN74GtpLuSe91eXU7waXcmTfpcUzzvbtGftOIFRVKuDK3FeOv2/vix4av/GGi6RB4Uu9dtIfFceheDodEvJ9S0ibSbnZaS36Jc5uIr23VrqNUSAlWQRtMpaQXPil%2B3D8R/Afg6zuPD3jbw/rWoKdcOs3MPwk1xLiynsbW1uI7GbRvthvbUSJciR76VhBEjQFlAuI3K9wNT0Tw/8AsgX%2Br654z/4Xx4503xbpXjTVReXz6ZpN/o%2BsRR294LjTbVNQh1JjHb2gVVWOKKIO2%2BRvnllMnoH7KvwC8Kfs46Hd%2BDNE1vXdVXVPG2pa0tzrGu3V28X2y9knWHddSTOdiuqswYea6vKQHkavKPg9%2B1D8RvGvx6vfBHxD13QPD%2BmSaxFZeHNGXwVqMravu0O11BvI1z7SLGaRZJbkiNIizRWrEDq4%2BkND/wCQ1Z/9fUf/AKEKdotXQB52i/8AQPuv/Axf/jdHnaL/ANA%2B6/8AAxf/AI3VWiqsItedov8A0D7r/wADF/8AjdHnaL/0D7r/AMDF/wDjdVaKLAaeqy6QLlfMsbkn7NDyLpRx5S4/g9Kredov/QPuv/Axf/jdGsf8faf9esH/AKKSqtJLQC152i/9A%2B6/8DF/%2BN0edov/AED7r/wMX/43VWinYDTvpdIFtZ77G5INsdoF0owPNfr8nPOaredov/QPuv8AwMX/AON0ah/x6WP/AF6n/wBGyVVpJaAWvO0X/oH3X/gYv/xujztF/wCgfdf%2BBi//ABuqtFOwGnFLpH9kTkWNzt%2B0xZH2pck7ZMc7PrVbztF/6B91/wCBi/8AxuiH/kC3H/X1D/6DLVWkkBa87Rf%2Bgfdf%2BBi//G6PO0X/AKB91/4GL/8AG6wfFXjfwZ4E046v438XaXo1oM5utVv47eMY/wBqRgK8T8e/8FSv2Cvh9cGwvv2jNH1W7LbYrTwxFNqryt/dU2iSLn6sBXLicdgcGr16sYf4pJfm7/gceKzHL8Cr4itCH%2BKUV%2BDd/wAD6T0qXSDct5djcg/ZpuWulPHlNn%2BD0qt52i/9A%2B6/8DF/%2BN18F/Ef/gvt8BvAupTaT4F%2BA3jjW9RWNoo7fVooNLErSKUXaGaSYgk/88qy/Df7YP8AwWG/agKv8DP2QNB8AaNc8prnjQTB41PR1M7RGRfdLd814r4qyaVV0sPKVaXanCUvvdkl82j06eCzjEYNYuhgq0qL2qOlKnTfpVr/AFenL/tyVTTVXP0I87Rf%2Bgfdf%2BBi/wDxuvOfjV%2B2B%2ByX%2BzrE5%2BNHxe0nQZ0Tf/Z1xrUcl4y%2Bq20cbTOP91DXzhpv/BO/9sf4yxif9sX/AIKK%2BLbi3nhaO98N/DWNNJtmBH3TKqKsq9iHt8kd67v4X/8ABJT9gT4W%2BXc2/wABbLXr1R%2B9v/Fl1LqLTt/eaKZjDk/7MYFbvF57io/7PhlTXerPX/wCnzP5OaPPjXxsKlp4ZNedaK/GnCo//AW/JnjvxP8A%2BC9vwXutUfwf%2Byt%2Bz34w8eaq5KwXNzJ9mtyegdYo4ZZ5B/slIz71w2qftAf8F3f2n72SbwR8Dn%2BHtnc3LGdf7Eg0xkjJPPmaq7zZ90jB9BX6L%2BE/A/gvwFpg0XwN4Q0vRbNcbbTSdPjtoh/wGNQP0re1z/kNXn/X1J/6Ea455FnGMlfGY%2BaX8tKKpr7/AHpfifQUOIs2wkEsHRw1B/zLDqvU/wDBmLlWin/hw67qzR%2BXw/4I6/ty/H6c3v7VP7W1s0ck4ljjudTv9dmtgCDsEcjQW457BSvNe0/C7/ghx%2Byp4PQzePfHnjvxDLKgW8tLDV4NHsZwPWG0gV/zkPFfZ1FaUOD8goz55UnOXecpSf4s5c1zbP8AP8P9XzXH4jEUv%2Bfc60/ZfKhTdCglpt7Fr13PJ/hj/wAE/wD9g74P%2BXJ4E/ZY8PQzQ48q81CFL64Q%2BomukkkB9w1fSfgm3sLXwvaW2l2Yt7eNWWKEYwgDHgYAGPwrhK7zwZ/yLVt/wP8A9DavZWEwuEpctCCiuySX5JHl4XCYTBx5MPTjBdoxUfySNSiiipOsKKKKACiiigAooooAKKKKACiiigAooooAKKKKACiiigAooooAKKK8J%2BB1x438P/Hr486Pc%2BOdf8TCy1DTL7RrLW9QMsdo09g0v2W2jUKkEQOxAqKC23c5eRndgD3auY%2BLek6fr/g6XQtWt1mtb0tBcwt0eN43VlP1BIr55/YK8XeKL3xN4Vhm%2BJ/iDxRD4w%2BAmg%2BL/E0mua9cX6wavcyuDPCszsLNLjdOPs8QSFfsYCRrtbP0n47hjn0iNJbqOEC5B3SBiD8rcfKCaqCTkkxxlKElKLs1qn2a1T%2B9Hxd/wSY1fULP9lWf4Ma5ctLqXww8a6z4Tv2k%2B8Wt7ppEyPQRzIo9lr6br5j/AGZrO3%2BFv/BSD48/BaTVbeKz8V6dpHjfREKyANvQ2t64G3JzPt5wOnevqb%2Bz7T/oOWv/AHxL/wDEVy5FLlyyFF703Kn/AOAScV/5Lyn3fihCNTjOvj4K0cZGlilbb/aaUKsrelX2y8rW6FWrWj/8fb/9es//AKKej%2Bz7T/oOWv8A3xL/APEVZ0qxtVuWK6xbN/o0wwFl/wCeTc8p2616zasfn5mUVa/s%2B0/6Dlr/AN8S/wDxFH9n2n/Qctf%2B%2BJf/AIindAVaKtf2faf9By1/74l/%2BIo/s%2B0/6Dlr/wB8S/8AxFF0Aa5/yGrz/r6k/wDQjVWtPWLG1fV7p21i2Um5clWWXI%2BY8HCYqt/Z9p/0HLX/AL4l/wDiKSasgKtFWv7PtP8AoOWv/fEv/wARR/Z9p/0HLX/viX/4indAGsf8faf9esH/AKKSqtaeq2Nq1ypbWLZf9GhGGWX/AJ5LzwnfrVb%2Bz7T/AKDlr/3xL/8AEUk1YCrRVr%2Bz7T/oOWv/AHxL/wDEUf2faf8AQctf%2B%2BJf/iKd0ATf8gW3/wCvqb/0GKqtactjanSIE/ti2AFzKQ22XB%2BWPj7mf/11W/s%2B0/6Dlr/3xL/8RSTQFWirX9n2n/Qctf8AviX/AOIo/s%2B0/wCg5a/98S//ABFO6A8z8e/snfCv4tfEx/i94vbU2v7Xwhc6K1nbXax208c3mQrO4C7/AD4ob2/jidXUKt9PkMWUr51J/wAE3fhhf3Md34h%2BL3jzU5E0iHTm%2B1XWnIrRQ6XqulwkLFZIsZS11i5ACBVLJE7KzbzJ9NWNjarbXgGsWxzbAEhZfl/epyfk/Dj1qt/Z9p/0HLX/AL4l/wDiKn3W2PU8O0b9iTwT4d8a6T4w0D4oeMbSLQdcu9Z0bRY7mxaztdQudMn06e5CvaGR2ZLiSXa7sglOQoVmRux%2BK3wRsfimmh348eeIPD%2Bt%2BHZ5ZNL8SaA9qt5GJYGgmQieCWFkkRskGPhkRl2sikegf2faf9By1/74l/8AiKP7PtP%2Bg5a/98S//EU/dDU8n8TfskeFvHHwNT9ljSPiR4o8M%2BEZ9GttAjttB/s9prfTEtvsptkku7Sc4ZCGZ23SbkG1lGVNXxZ%2Bxb8BPiFrXh7xp8RvBuna/wCKtA1i01JvGOo%2BHtMGp6lNbKViFzLHaoGQAr8qKgHlpjG2va9HsbVNXtXXWLZiLlCFVZcn5hxymKrf2faf9By1/wC%2BJf8A4il7tw1POY/2a/g7e6Hrfhrxv4MsPFlhr/imfX76z8Wadb30QvJAFBVJI9oEaKqJkFlVQNxrK%2BGX7IPwe%2BEOm%2BDdE8BWU9hY%2BB9S1K/0iytoreKGS5vUmjkklSOJQzKk8iIV2kK2Dur1v%2Bz7T/oOWv8A3xL/APEUf2faf9By1/74l/8AiKfuhqeJX37FPw/v9avtV/4WB4vt4pP7Tk0GwstRggj8PXOoXcd7d3Nm6QCUyPcRiQCd5kUM6KgjYoX%2BIf2IvCV0bu//AOFweNo/Eurm5l1zxpDPpy6jqMV7Y2NrcW0i/Y/syRGDT9PQeVDG6/Y4mDBt7N7V/Z9p/wBBy1/74l/%2BIqzqtjatcqW1i2X/AEaEYZZf%2BeS88J360vduGp4TZfsT/DbRNfj1Twp4x8T6PYWlw19o/h%2Bwu7b7HpmpnSzpY1GDzIGl85bYkBHkeDzCZTEZDuqDwv8AsU6N4S8A6D4C0v47eOMeEr%2BO98Iat5GipdaPMLe5t5nTy9OWO4M8V3OJTcxzF2feCJPnr3T%2Bz7T/AKDlr/3xL/8AEUf2faf9By1/74l/%2BIp%2B6Gp4tp/7Hnh/QPEXgHWfCPxf8Y6RZ/DuwNpo2iWp02W3uUdVW4a5e4spJ5HnC/vGEqnJLJsYlqr6F%2Bwh4F8KeF9NtdC%2BLnjuCTRLGDSfBl1HqNmsnhnT7WWCaK1tdtqFmjOyJHF2twXjiRWJ5z7j/Z9p/wBBy1/74l/%2BIqzLY2p0iBP7YtgBcykNtlwflj4%2B5n/9dJ8oangl/wDsS%2BEdR8FTfDub4weOxo2rJfr4x08ajaGLxP8AbbuW6uzdqbUiIyvPMjNaC3PlyeWCFSMJNqn7Ffw91bXNQ1WXx74ugt531afRtMstSggh0G81KcXN5eWjxwCbznnDSDzpJUUyyKqBG217Z/Z9p/0HLX/viX/4ij%2Bz7T/oOWv/AHxL/wDEU/dDU4b4R/B7TfhLDrlwnizWNf1XxLrP9qa9rmutb/aby4FtBaoSttDDDGqQW0EYWONRhNxyzMx9X%2BG3/L7/ANs//Zqwf7PtP%2Bg5a/8AfEv/AMRXR%2BALeKD7X5V9FNny8%2BUHGPvddyioqNezYLc6OiiiuQsKKKKACiiigArg/Gf/ACMtz/wD/wBAWu8rg/Gf/Iy3P/AP/QFrah8ZMtjLooorqJCq3jvwfoHxC%2BGV/wCAfFdkLnS9ctr3T9Stj0lt5oUjkT8VYj8as1am/wCQLb/9fU3/AKDFSYHzprn/AATp%2BFWteBIfAK/E/wAc2kD%2BDrzw7rl/bahZm71uG5uXu5ri5kktWxcNdSSTs0IiWR5GEiOmEF2H9gX4Z2l82v6d8RfF9tra6nLqVprsVzYm4tLyTWL7VXmjVrQwkmXUbmIq8bJ5LBdu4bz7pRRyoLs4r4IfBLS/gR4TTwX4d8Z67qdgt5qF4y63LbyO9ze6hc388zPHCjFjJdOoGdoRE43bmbL%2BGf7J3hH4c67qHinw5498TB7XSb2z8NWlxLZyQ%2BHrW91K2vLuC0BtslJJYYR%2B/MzIkSpGUUYr0mrWn/8AHpff9eo/9Gx0mlYZ5LqX7Lek6x4s1Pxhqvxh8dzXNxZ6hBoKnWYl/wCEb%2B2yxyzyWLrCJd2%2BJNgneZYkBijVYmaM4N5%2Bw34TvL668VD4zeOYfFWptqC614xgn05b7ULe9t7G2ntnT7F9mjjMWmWAXyYY3U2wYMGeRn9uop8qFc8u0f8AZT8I6L4u0DW4fH3iqbRPCt3Fd%2BGvBd3fwyaZptxHYNYxyRkw/acLC8mImnMIdy4jDYI9b0P/AJDVn/19R/8AoQqrVrQ/%2BQ1Z/wDX1H/6EKGkkwKtFFFMAooooAtax/x9p/16wf8AopKq1a1j/j7T/r1g/wDRSVVpLYAooqO8vLTTrSS/1C6jgghQvNNM4VEUDJYk8AAdzT2BtIvah/x6WP8A16n/ANGyVVr5%2B%2BK3/BUb9lHwjq1t4C%2BHOvar8TfFMduyL4a%2BGelPq05bzX4Mkf7kYyM/OSPSuW/4TX/gqV%2B0V8vgj4beE/gZoE33dU8V3A1rWyh6PHbRgQRt6xzcj1ryJZ1guZwoXqyXSmua3rLSC%2Bc/keNUz7Ac7p4e9aa6U1z2fnJWhH5z%2BR9Pa94g0HwtpM%2Bv%2BJ9bs9NsLZN9ze39ykMMS%2BrO5CqPcmvnfxr/AMFTf2cbfXpfAvwH0/xH8XfEicf2T8N9Gkvo0JOAz3PEKp6urPgDOK8O%2BKfw4/4J5/CXxLFe/tx/tV%2BJfjj44in/ANG8M3mqy3ojuOgjh0uxOy3zz8krbTmvRfBXxP8A20fiBoMXg/8AYu/Yl0D4OeEcYttd%2BJEKWTqh/ij0q0G5HxggvuU8Zrya2dY2rUdKm4wl/LBe3qfNRtSh/wBvTdj7TLvD3xHznCRxtelTy3CS1VbFTjBNd4c/Kp/9wqVf1N5PE3/BWb4zaPc6tpHhL4Z/BbQDLGxTxHdya3rEY2yEOfJxbKNuSVbBBwPWvBfiz4x8BaLqf/CNftC/8FeviL441yZyi%2BEfghp8FlNO/eDbYLKoPYh2QmvfbP8A4JkyfFixk179tr9p3xv8Up/tMRk8PRXx0fQVJDniztSMkYADbxkdRzXuHwm/Z/8Agh8CNL/sj4OfCjQfDcJQLIdJ0yOKSYf9NJAN8h92JNZrKszx2tS8V3qVJSf/AILpOnTXo5SO7/VXwsyj/kZY7FZrVW8aUnhsPf8A6%2BTSqSj/AIMPDTZo/Pbwp%2Bxd4k%2BLGojWfgx/wTiTT/Pxjx1%2B0p4wvLq5kX1bS4pCVYdRuUqScHivbPAX/BJIahbgfH39oHULqzkXE3hH4aaLa%2BFtHZf%2BeUiWaB7hR/eYqx719mUV14bhTKqLvVXO/RRj/wCAwUb/APb0pedzswvGNDIHbhjLMLl3adKlGpiPV4nEKtVT84KlrqrdOC/Z8/ZD/Zk/Z0k2fBj4JaBocyWc6/2hDZCS8YeS/DXMu6Zvxc13tWtH/wCPt/8Ar1n/APRT1Vr6ChQoYaHs6MFGK6JJL7kkfM5lmmZ5xi5YrH151qst5VJynJ%2Bspyk/xt2SCiiitjgCrWuf8hq8/wCvqT/0I1Vq1rn/ACGrz/r6k/8AQjS6gVaKKKYBXeeDP%2BRatv8Agf8A6G1cHXeeDP8AkWrb/gf/AKG1Y1/gHHc1KKKK5SwooooAKKKKACiiigAooooAKKKKACiiigAooooAKKKKACiiigArhtA/Zh/Zq8J%2BNrj4leFv2efA2m%2BI7u4M914g0/wlZw3s0pbeZHnSISMxb5txOc89a7migDA8E/Cr4X/DS41O6%2BHHw30Dw/LrV4bvWJNE0eC0a/uCSTLMYlUyvlm%2BZsnk880vxD/5AsX/AF9L/wCgtW9WD8Q/%2BQLF/wBfS/8AoLVdP40J7HxT%2B0x/xaz/AIKM/Af4yp%2B7tPFlhq/gnWpun30FzZJ77p93HtX1JXzJ/wAFZtJ1Cz/ZUh%2BM2hWxl1P4YeNNG8WWCp97db3Sxvg%2Bgjmdj7LX0lo2rafr%2BkWuu6TcCa1vbaOe2lXo8bqGVh9QQa5MD%2B5zTFUO7hUX/b0eWX/k0PxPv%2BJv%2BFHgnJMy3dONfCS9aNX2tK//AHCxLS8o2WzLNWtH/wCPt/8Ar1n/APRT1Vq1o/8Ax9v/ANes/wD6KevXex%2BelWiiimAUUUUAWtc/5DV5/wBfUn/oRqrVrXP%2BQ1ef9fUn/oRqrSWyAKKKKYFrWP8Aj7T/AK9YP/RSVVq1rH/H2n/XrB/6KSqtJbAFFFFMC1N/yBbf/r6m/wDQYqq1am/5Atv/ANfU3/oMVVaSAKKKKYFrT/8Aj0vv%2BvUf%2BjY6q1a0/wD49L7/AK9R/wCjY6q0luwCiiimBa0P/kNWf/X1H/6EKq1a0P8A5DVn/wBfUf8A6EKq0uoBRRRTAKtax/x9p/16wf8AopKq1a1j/j7T/r1g/wDRSUuoFWiiimAVam/5Atv/ANfU3/oMVVatTf8AIFt/%2Bvqb/wBBipPoBVooopgFdR8Nv%2BX3/tn/AOzVy9dR8Nv%2BX3/tn/7NWdX%2BGxrc6iiiiuMsKKKq67rek%2BGdEvPEmvX8drY6fayXN7cynCwxRqWdz7BQSfpQBaorxvwt%2B278MtZ8AeLfiH4s8H%2BKPCdt4N8GW/i7U7LxFYwfaZdDnhuZYL2JLWebIkFncqImKzK8RV40JXK67%2B2x8O/Bfwh8Z/Ff4keB/FHhufwJJHFrfhLUbe0l1V5poYpbWGBbW5lgmacTRpHtm27yyuUKPtAPY64Pxn/yMtz/AMA/9AWut8KeIrLxh4X03xbpkUqW2qWEN3bpOoDqkqB1DAEgHDDOCRnua5Lxn/yMtz/wD/0Ba2ofGTLYy6KKK6iQq1N/yBbf/r6m/wDQYqq1am/5Atv/ANfU3/oMVJ9AKtFFFMAq1p//AB6X3/XqP/RsdVataf8A8el9/wBeo/8ARsdJ7AVaKKKYBVrQ/wDkNWf/AF9R/wDoQqrVrQ/%2BQ1Z/9fUf/oQpPZgVaKKKYBRUV/f2OlWU2p6pew21tbxtJPcXEgRI0AyWZjwABySa%2BaPHX/BSjw14m8TXPws/Yq%2BGOqfGXxVA3l3E%2BgsIdD05jwGudRceUB3GzcGwRvBrjxePwmBinWnZvZbyflGKvJ/JerRxY3McFl8U687N7LVyk%2B0Yq8pP0Xq0fU2sf8faf9esH/opK8c%2BPf7cf7K/7NTtYfFf4waZbarkLF4fsGN5qMjn7qi2gDSLk8AsFXPevM9Q/ZK/bj/aLnS6/a//AGuW8MaTPbxGTwL8GoWsYvLMa4jl1CUGeTK4V0wVPODzmrNxon/BNT/gmNpMeq3Gl%2BGvDesTITbySK2oa/qDNwdhbzLlwzcHGIwTztFeZWzHHui6ihGhTX26rV/lCL/9KmvQMswvFnE2Nhg8nwUnUnpFOMp1H6UafM/P35xS3lZXM/8A4al/bu/aM/0f9lb9k5fBWiz8R%2BNvjJM1qxQ/xx6dCTMeOVYlkPGQK5j4p/sjfCjw3oK/FH/gqZ%2B21q/jG1R/MTQr3U/7F0MyD5tkNhasHuHHGNp3MByproz8a/8AgoF%2B1v8A6N%2Bzv8J4vg34PuOB44%2BI9oJtYnjP8dtpoJWM4wQZiVYHIYGus%2BEH/BNr4D%2BBfFCfFL4tXeq/FPxycNJ4r%2BIN19taJgcgQW7ZigVTyoClk6Bq8xYetmfwxlWX81W8KX/btKNnPyurPufcLwz4byV%2B041zJ1ai/wCYWg4VZ37TcJfVKHZqdTFVF/z7urHnnw7/AGl/Gev%2BF7Twb/wTE/4J%2BLYeGzDtg8beLbJPD%2Biz/O%2BLmOJQJ75DnBYYfIORW7/wwn%2B0d8ef9L/bV/bH1y/sZeZfA3w1T%2BxtKx3iklA866j/AN/a3TmvrO%2BVVs7BVAAFoQAO372Sq1etSySE6ajiqjqJfZXuU15KELXX%2BKUvQ9eHHlPJIqlwxl9HAxjoqiiq%2BI9fbVoyUH/14oUrP4WtGeefA79k79nD9m2xFl8Evg5omgOI9j31va77uVfR7iTdK4/3mNeh0UV69GhQw1NU6UVGK2SSS%2B5JHxeY5nmWb4uWKx9edarLedSUpyfrKUpP8bdki1D/AMgW4/6%2Bof8A0GWqtWof%2BQLcf9fUP/oMtVa0XU4QooopgWtH/wCPt/8Ar1n/APRT1Vq1o/8Ax9v/ANes/wD6KeqtLqAUUUUwCrWuf8hq8/6%2BpP8A0I1Vq1rn/IavP%2BvqT/0I0uoFWiiimAV3ngz/AJFq2/4H/wChtXB13ngz/kWrb/gf/obVjX%2BAcdzUooorlLCiiigAooooAKKKKACiiigAooooAKKKKACiiigAooooAKKKKACiiuf8MfFj4WeNvE2r%2BCvBnxK8P6vrPh%2BUR69pOmazBcXWmuSVC3EUbF4TlWGHAOVPpQB0FYPxD/5AsX/X0v8A6C1R%2BAvi/wDCX4qy6jB8L/ij4d8SPpFwINWTQNbgvDZSksBHMIXby2%2BVvlbB%2BU%2BhqT4h/wDIFi/6%2Bl/9Barp/GhPY8g%2BPfw2t/jH8EPF/wAKLlFI8R%2BGr3TlLdFeaB0VvYhiCD2IrzX/AIJmfEmf4pfsL/DrW792%2B26foY0a/ST76S2LtaEPnncRCG5/vZ717vXy3/wTw/4tz8Wv2gP2Z5PkXwx8T31zTIDx5Vhq0IuIUX/ZXY3/AH1XJif3GdYep0nGdN%2BqtUj%2BUj7/ACb/AIUvDjNcHvLDVcPio/4Zc%2BEq/hOg36I%2BpKtaP/x9v/16z/8Aop6q1a0f/j7f/r1n/wDRT1672Pz0q0UUUwCiiigC1rn/ACGrz/r6k/8AQjVWrWuf8hq8/wCvqT/0I1VpLZAFFFFMC1rH/H2n/XrB/wCikqrVrWP%2BPtP%2BvWD/ANFJVWktgCiiimBam/5Atv8A9fU3/oMVVatTf8gW3/6%2Bpv8A0GKqtJAFFFFMC1p//Hpff9eo/wDRsdVataf/AMel9/16j/0bHVWkt2AUUUUwLWh/8hqz/wCvqP8A9CFVataH/wAhqz/6%2Bo//AEIVVpdQCiiimAVa1j/j7T/r1g/9FJVWrWsf8faf9esH/opKXUCrRRRTAKtTf8gW3/6%2Bpv8A0GKqtWpv%2BQLb/wDX1N/6DFSfQCrRRRTAK6j4bf8AL7/2z/8AZq5euo%2BG3/L7/wBs/wD2as6v8NjW51FFFFcZYVi/EnwTYfEz4da/8ONUuZIbXxBot1ptzNEPmjjnhaJmHuA5IraooA%2Bb/AH7NXx9nh8U3nxh0b4d311r/wAJ9P8AAosUvry906aKyi1Ai5uIXt4WkS6l1BlktQ48qKEBZpWkJXiIv%2BCZ/jHxT4S8V65rfxK1Dwb4p1iaeXR9N8O%2BLH8QWcbf2N/ZkP2u%2B1yxmuLpgsl1iRY42hiufKTPlq5%2Bx6KAOb%2BDvg3Wfh18J/DXgHxD4hl1a/0XQrWyvNSmEYa4kiiVGf8AdRxJjI4wi8Y4BrP8W6lcW/iC4hjjtyBswXtY2P3F7lSTXaVwfjP/AJGW5/4B/wCgLW1FXkKWxV/ti7/542v/AIAxf/E0f2xd/wDPG1/8AYv/AImqtFdNkQWv7Yu/%2BeNr/wCAMX/xNWZdVuhpEEnlW2Tcyg/6HFjhY%2B23Hf8AzisyrU3/ACBbf/r6m/8AQYqTSAP7Yu/%2BeNr/AOAMX/xNH9sXf/PG1/8AAGL/AOJqrRTsgLX9sXf/ADxtf/AGL/4mrNjqt01teMYrb5bYEYs4h/y1Qc/Lz171mVa0/wD49L7/AK9R/wCjY6TSsAf2xd/88bX/AMAYv/iaP7Yu/wDnja/%2BAMX/AMTVWinZAWv7Yu/%2BeNr/AOAMX/xNWdH1W6k1e1jaK2Aa5QHbZxA/eHcLkVha1rejeG9JuNe8Q6va2FjaRGW6vb24WKKFB1Z3YgKB6k4r5s1X/go7qPxQ8Zn4b/8ABPv4OXvxX163vFhuPEsjGz8NabJkczXj487HXZH98fdcniuLGY7B4GKVWWr2iruUvSKu391l1aOHG5lgsvsq0/eltFJylL/DFXk/usurR9P6t4utNA0yfWtdvtNsrO1iMlzd3cEEcUKAZLMzKAoHck4r5m8X/wDBTweP/EVz8M/2E/g/c/F7xDbyeVd6zZWcVr4e01/We/kQI%2BB8wWPIcAhXzWXpP/BPTx98etTg8af8FDvjnd%2BO5I5RNbfD7w68mn%2BGrFwcgGNCsl2VPR5CpIyGDCtrx3%2B3V%2Byp%2BzjLb/AD4CeFn8Y%2BJrVDDpvw7%2BFmkpcG3IOCJDCBDbKCRuydyjJKmvJxWNxcqfPWksNTezdpVZeSjrGLfa1SXkjqyPh/jfjbFvDZVhpQSV3ZKVRR6ym21RoRXWdSendPQx4P2D/jB%2B0rqEHi3/gon8c38TwJIssHwy8Eq2meHbUg5Cy7Ns14QejOQRyMsK7X4k/tm/sgfsR6XafBvw7baSNWi/daR8N/h74bgutQlkI4QW0CYjZuuZSm7nkmuDHwg/4KDftdf6R8e/ibF8FPBtxyfBfw%2Bu1uNbuIj/Bc6iRthOD/AMsQQRwyg17N%2Bz3%2ByD%2Bzt%2By7pj2XwY%2BGdjpt1OuL7WZgZ7%2B8JOSZbmQmRsnJ25CgngCssJh67blgqPs771at5VJekW%2Bb055Qj/cPu8Fwf4e8FydTNcS8biutLDT5lftWx04tWvvDC0522U1ueUajqn/BTH9r%2BQJNbaZ%2Bzx4JuYI/lFtDqXiq8hKLg52iOy3Lzj5ZYicfMBXf/s6fsJ/s5fs1am/i/wALeD/7e8WXD%2BZfeN/GLLqmrXEuMGTz5lPlE9/KCA9817ZrH/H2n/XrB/6KSqtenh8nwsKirVm6tRfanrb/AAx%2BGP8A27G/94rM%2BP8AOcVgp5fl0YYLCS0dLDpwU1/09qNutX8/a1XG%2B1JFr%2B2Lv/nja/8AgDF/8TR/bF3/AM8bX/wBi/8Aiaq0V6tkfDGnfardLbWbCK2%2Ba2JObOI/8tXHHy8dO1Vv7Yu/%2BeNr/wCAMX/xNGof8elj/wBep/8ARslVaSSsBa/ti7/542v/AIAxf/E0f2xd/wDPG1/8AYv/AImqtFOyA04tVujpE8nlW2RcxAf6HFjlZO23Hb/Oarf2xd/88bX/AMAYv/iaIf8AkC3H/X1D/wCgy1VpJIC1/bF3/wA8bX/wBi/%2BJo/ti7/542v/AIAxf/E1Vop2QGnpWq3UlyytFbf8e0x4s4h0iY9lqt/bF3/zxtf/AABi/wDiaNH/AOPt/wDr1n/9FPVWlZXAtf2xd/8APG1/8AYv/iaP7Yu/%2BeNr/wCAMX/xNVaKdkBa/ti7/wCeNr/4Axf/ABNWdY1W6j1e6jWK2IW5cDdZxE/ePUlcmsyrWuf8hq8/6%2BpP/QjSsrgH9sXf/PG1/wDAGL/4mj%2B2Lv8A542v/gDF/wDE1Vop2QFr%2B2Lv/nja/wDgDF/8TXa%2BEpnuPD9vNIEBO/IRAo%2B%2B3YAAVwFd54M/5Fq2/wCB/wDobVjWSUSo7mpRRRXMUFFFFABRRRQAUUUUAFFFFABRRRQAUUUUAFFFFABRRRQAUUUUAFfHX7Mvh/xz4X%2BJXw90PU/hd4lsr/wL4J8YaD4t1G%2B8MXsVpqGqahrGnz2xjufK8u5iuPsdzdNcRs6RB1EjI8u0/YtFAHx7/wAEzPhz4/8ABWvKfFGjeMfIsPg/4Y0O5PjLwu%2BljQLy1kvS%2Bh6fuhi%2B2WduJfluCblzld13cbhs%2BqPHbWq6RGbuGR1%2B0jAjkCnO1u5BrarB%2BIf/ACBYv%2Bvpf/QWq6fxoT2OX87Rf%2Bgfdf8AgYv/AMbr5Z1KTTPhN/wV3029%2ByTx6Z8WvhNNa%2BX9pUNNqumT%2Bbv3bMHFocYxnnOe1fTlfLf/AAUr/wCLfa58E/2mofk/4Qb4rWdtqk/TytM1FTbXTZ/CIY6HNceeL2eDjiP%2BfU4T%2BSklL/yWb%2B4%2B/wDDT/auIKuVPbG4fEYdLvOVKVSl8/bUKaXnLTVn1d52i/8AQPuv/Axf/jdWdKl0g3LeXY3IP2ablrpTx5TZ/g9KzKtaP/x9v/16z/8Aop69drQ/PQ87Rf8AoH3X/gYv/wAbo87Rf%2Bgfdf8AgYv/AMbqrRTsBa87Rf8AoH3X/gYv/wAbo87Rf%2Bgfdf8AgYv/AMbqrRRYDT1iXSBq90JbG5LfaX3FbpQCdx7bDiq3naL/ANA%2B6/8AAxf/AI3Rrn/IavP%2BvqT/ANCNVaSWiAtedov/AED7r/wMX/43R52i/wDQPuv/AAMX/wCN1Vop2A09Vl0gXK%2BZY3JP2aHkXSjjylx/B6VW87Rf%2Bgfdf%2BBi/wDxujWP%2BPtP%2BvWD/wBFJVWkloBa87Rf%2Bgfdf%2BBi/wDxujztF/6B91/4GL/8bqrRTsBpyy6R/ZEBNjc7ftMuB9qXIO2PPOz6VW87Rf8AoH3X/gYv/wAbom/5Atv/ANfU3/oMVVaSQFrztF/6B91/4GL/APG6PO0X/oH3X/gYv/xuqtFOwGnYy6Qba82WNyALYbgbpTkeanT5OOcVW87Rf%2Bgfdf8AgYv/AMbo0/8A49L7/r1H/o2OqtJLVgWvO0X/AKB91/4GL/8AG6PO0X/oH3X/AIGL/wDG6q0U7Aaejy6QdXtRFY3Ib7Sm0tdKQDuHUbBmq3naL/0D7r/wMX/43Rof/Ias/wDr6j/9CFVaVtQLXnaL/wBA%2B6/8DF/%2BN0edov8A0D7r/wADF/8AjdVaKdgLXnaL/wBA%2B6/8DF/%2BN1Z1WXSBcr5ljck/ZoeRdKOPKXH8HpWZVrWP%2BPtP%2BvWD/wBFJStqAedov/QPuv8AwMX/AON0edov/QPuv/Axf/jdVaKdgLXnaL/0D7r/AMDF/wDjdWZZdI/siAmxudv2mXA%2B1LkHbHnnZ9KzKtTf8gW3/wCvqb/0GKk0Aedov/QPuv8AwMX/AON0edov/QPuv/Axf/jdVaKdgLXnaL/0D7r/AMDF/wDjddH4Aeyf7X9jt5Y/9Xu82YPn73TCjFclXUfDb/l9/wC2f/s1Z1V7jGtzqKKKK5CwooooAKKKKACuD8Z/8jLc/wDAP/QFrvK4Pxn/AMjLc/8AAP8A0Ba2ofGTLYy6KKK6iQq1N/yBbf8A6%2Bpv/QYqq1am/wCQLb/9fU3/AKDFSfQCrRRRTAKtaf8A8el9/wBeo/8ARsdVa%2Bdvit%2B37ft4/wBW/Z5/Y1%2BE8/xV8d2lsE1qW0vFg0Xw6fNQbr27Py7gQR5SHcSCu5WGK5MZjcNgqalWla7skk22%2B0Yq7b9F5uy1OPGY/C5fTU60rXdkkm5SfaMVdyfkl5tpan0Bq%2BsaR4f0u41zX9UtrGytYjLdXl5OsUUKAZLO7EBQO5JxXzL4t/4KPSfEvxDdfDP9gj4RX3xY123k8m88RIxtPDmlv6zXr4EpA%2BYJH98A7XzxVbSP%2BCfXxE%2BP2qW/jb/goh8bbjxs8comtfh14ZeSw8NWDg5AKKRLdsp6PIQcZB3CvbPH/wASf2dv2OPhMuseL9V0LwT4V0uPyrK0t7dII8gZEVvBEMyOeTsRSTycdTXm1a2ZYmm6k2sNSWrbs6lvn7lP5ucvJM58Hg%2BJuI8XDC4OlKm6jUYxjH2lebeyjCKlGDf/AHEl5K2nimi/8E9vHnx41a38c/8ABQ/42XPjyeKUT2nw%2B8PtJYeGtPccgeUpWS7ZT0eQgkZDBhXSfEH9tP4R/s7eKtM/Zl/Za%2BEh8e%2BPLZ0j074c%2BBIore300Bh/x9zqvk2MYJGcgkZBKgHdXEf8JJ%2B2T/wUJ/c%2BBo9W%2BCPwgueG166jCeKPEUB726cixiYdJDliCCC6kqPor9l/9mP4J/suaPZ%2BCfgv4It9Lgku4nv71v3l3fy7hmW4mb55W5PU4GcKAOK4sLRnW5nl8eSMvirTTlOf%2BFS1a7SnywX2ab0P1HBcH8G%2BHl6md2xWOe%2BGp1L8r/6jMVFyd098Ph5OS%2BGdSlrFeB/8Ml/tgftXf6d%2B2x8ej4Y8NT8n4X/C2dreKRD/AMs7y/bMk%2BRwyLlCeVZa9%2B%2BC37PfwU/Z18ML4P8Agn8NdK8O2OB5q2FviS4I6NLK2ZJm/wBp2Y%2B9dlRXs4XK8JhKntUnKp1nJ80vvey8oqK8jgzzjfP89wiwMpxo4VO8cPRiqVBPo3CHxy/v1ZVp/wB5BRRRXonyJa1j/j7T/r1g/wDRSVVq1rH/AB9p/wBesH/opKq0lsAUUUUwLWof8elj/wBep/8ARslVatah/wAelj/16n/0bJVWktgCiiimBah/5Atx/wBfUP8A6DLVWrUP/IFuP%2BvqH/0GWqtJdQCiiimBa0f/AI%2B3/wCvWf8A9FPVWrWj/wDH2/8A16z/APop6q0uoBRRRTAKta5/yGrz/r6k/wDQjVWrWuf8hq8/6%2BpP/QjS6gVaKKKYBXeeDP8AkWrb/gf/AKG1cHXeeDP%2BRatv%2BB/%2BhtWNf4Bx3NSiiiuUsKKKKACiiigAooooAKKKKACiiigAooooAKKKKACiiigAooooAKKKKACsH4h/8gWL/r6X/wBBat6sH4h/8gWL/r6X/wBBarp/GhPY42vFv%2BCifwvPxh/Yj%2BJXgqGAy3H/AAjE1/ZIo%2BZri0Iu4gvuXhUfjXtNR3dpbX9rLY3sCywzRtHLG4yHUjBB9iDWuLw8MXhKlCW04uP3pr9T08hzavkGe4TM6Px0KtOovWnOM7fPla%2BZxH7L/wAUF%2BNX7OXgb4rmfzJdf8LWV5dnOcXDQr5yn3Em8fhXouj/APH2/wD16z/%2Binr5V/4JPXdz4c/Z98Q/s%2BalOzXXwr%2BI2t%2BGSJTl2hS5M8T%2B6kTkKfRfavqrR/8Aj7f/AK9Z/wD0U9c2V4ieLyujVn8Tir/4l7sv/Jos9bjvKaGRcaZhgaH8KFWbp%2BdOb9pSa8nSq07FWiiivRPkwooooAta5/yGrz/r6k/9CNVata5/yGrz/r6k/wDQjVWktkAUUUUwLWsf8faf9esH/opKq1a1j/j7T/r1g/8ARSVVpLYAooopgWpv%2BQLb/wDX1N/6DFVWrU3/ACBbf/r6m/8AQYqq0kAUUUUwLWn/APHpff8AXqP/AEbHVWrWn/8AHpff9eo/9Gx1VpLdgFFFFMC1of8AyGrP/r6j/wDQhVWrWh/8hqz/AOvqP/0IVVpdQCiiimAVa1j/AI%2B0/wCvWD/0UlVatax/x9p/16wf%2BikpdQKtFFFMAq1N/wAgW3/6%2Bpv/AEGKqtWpv%2BQLb/8AX1N/6DFSfQCrRRRTAK6j4bf8vv8A2z/9mrl66j4bf8vv/bP/ANmrOr/DY1udRRRRXGWFFFZvjPxZo3gHwfq3jrxHM0enaLpk9/fyIu4rDDG0jkDuQqnigDSor5%2B0f9uDWNI%2BG/j3xx8Yvg1/YN74I%2BF9r4%2B/sfSPEI1E3mk3EN9JHGZHggEV0rafOkkeHjQtGwlcMStrTf2qPjHrVvr/AIY0j4HeF5vFvhPV4YfFEDfEoJomm2Mumi/ivXvzY%2BcQykRbBaZD5YkRYlIB7vXB%2BM/%2BRluf%2BAf%2BgLWt8FviXZ/Gj4OeE/jFp2iXmmW/izw1YazBp2oKFuLVLq3SdYpQOjqHCt7g1k%2BM/wDkZbn/AIB/6AtbUPjJlsZdFFFdRIVam/5Atv8A9fU3/oMVVatTf8gW3/6%2Bpv8A0GKk%2BgFWsrxx468G/DTwnfeOviB4mstH0fTYDNf6lqFwsUUKDuWPqcADqSQBkmvP/wBqL9sD4Sfsp%2BH7W48aXNzqfiDV38nwz4O0SH7Rqeszk4WOGFecbiAXOFGccsQp8g8D/skfGT9rzxXY/HH/AIKF%2BTDpVnOLrwn8FNPuN%2Bm6Z/cl1BhxeXGDyp%2BQZIPDGNfLxWYyjWeGwseer1X2YX6zfTyirzl0SXvHkYzM5RrvC4OPtK3VXtGCfWpJbd1FXnLokveM25%2BIf7Rn/BS25k0H4HXmr/DP4INIY9Q8eywmDWvFcQOGj09GGba3bkGZhkj6PFX0/wDs/fAT4R/s2fDKT4Z/Bzwda6LpFpaBmSEZkuJPMjDTTSH5pZDgZdiTwBwAAJ/iB8Qvhz8EPh/eeO/iD4hsNA8PaLahrm7uCI4oI1ACoqjqTwqooJJIVQSQK%2BXdE0X4/f8ABUNrzxB4g1bxB8MvgF5ANho1o/2bWvHERkQeZcOObazYHIQcuP72VdeCSp5fXTlevi5rTZWV%2Bm6pU0%2Bu8n/PLRfY8H%2BH88xp1c5zPEKlh6fu1MTUi2k3qqOHpp3nUa1VKm72/eV6kIe8%2Bo%2BK/wC3/feKvGt18Bf2FfAifE3xvAfL1PV0mK%2BH/DxJxvu7sHbIw5/dRnLbWXduG02vgp/wT%2BsoPHEH7QH7X3jqT4p/EdMPaXWpQhdJ0Lnd5dhZkbECnGJGG4lQwCMTn2z4UfCD4Y/AzwVa/Dv4R%2BCNP0DRrMfubHT4doLd3c/ekc45diWY8kmukrrpZZUxFRVsfJVJLVRX8OL8ov4mv5p3f8sYn1ON41wuVYSeXcK0ZYWjNOM60mniq6ejU6kbKjTl1oUOWLWlSpV1QVa0P/kNWf8A19R/%2BhCqtWtD/wCQ1Z/9fUf/AKEK9h7M/PCrRRRTAKKKKALWsf8AH2n/AF6wf%2BikqrVrWP8Aj7T/AK9YP/RSVVpLYAooopgWtQ/49LH/AK9T/wCjZKq1a1D/AI9LH/r1P/o2SqtJbAFFFFMC1D/yBbj/AK%2Bof/QZaq1ah/5Atx/19Q/%2Bgy1VpLqAUUUUwLWj/wDH2/8A16z/APop6q1a0f8A4%2B3/AOvWf/0U9VaXUAooopgFWtc/5DV5/wBfUn/oRqrVrXP%2BQ1ef9fUn/oRpdQKtFFFMArvPBn/ItW3/AAP/ANDauDrvPBn/ACLVt/wP/wBDasa/wDjualFFFcpYUUUUAFFFFABRRRQAUUUUAFFFFABRRRQAUUUUAFFFFABRRRQBV13W9J8M6JeeJNev47Wx0%2B1kub25lOFhijUs7n2Cgk/SvK/A37aPwz8U%2BDvFHjfxZ4Y8R%2BDLXwj4PtvFmqw%2BKrSBZToVxFcyw6gq200wCMtndDy3KzI0LB40JXPonxJ8E2HxM%2BHWv/DjVLmSG18QaLdabczRD5o454WiZh7gOSK%2BdIP2O/jr8R/A/j3wl8a7/wAKWM3jb4MWvw6N54a1e7nFrFbQaiBqQSS2hJeabUWJt92IVt0xLKXbaAe9fCL4n6h8U9CudX1b4TeK/Btxa3Swvpfi60t453VoY5VlRraeeJ0KyBTtkLK6OjqrKRV34h/8gWL/AK%2Bl/wDQWrzv9kn4D%2BLvgs3i/UfEfhnwt4Yt/Ems293YeDfBF/Nc6Zppjs4YZZkeW3tz5s8iNI4WJRkKSXcu7ekeO7mS10iOSJYyTcgfvIlcfdbswIq6fxoT2OJoq1/bF3/zxtf/AABi/wDiaP7Yu/8Anja/%2BAMX/wATXZqQfKPwJ/4tT/wU/wDjJ8Lm/d2vj/wlo/jPS4TwoeHNjdMvqXkIY/Svq7R/%2BPt/%2BvWf/wBFPXyz%2B13qVz8MP28/2ePj4kdvHbatqGp%2BCNZcWkYWX7bBvskPy44nVzzn2r6v0rVbqS5ZWitv%2BPaY8WcQ6RMey142VXpPE4f%2BSpJr0naovxlI/QuPf9uoZRm6/wCYjCUoyf8A08wznhZ/Plp0W/VN7mZRVr%2B2Lv8A542v/gDF/wDE0f2xd/8APG1/8AYv/ia9nU/PSrRVr%2B2Lv/nja/8AgDF/8TR/bF3/AM8bX/wBi/8AiaNQDXP%2BQ1ef9fUn/oRqrWnrGq3Uer3UaxWxC3LgbrOIn7x6krk1W/ti7/542v8A4Axf/E0leyAq0Va/ti7/AOeNr/4Axf8AxNH9sXf/ADxtf/AGL/4mnqAax/x9p/16wf8AopKq1p6rqt1HcqqxW3/HtCfms4j1iU91qt/bF3/zxtf/AABi/wDiaSvYCrRVr%2B2Lv/nja/8AgDF/8TR/bF3/AM8bX/wBi/8AiaeoBN/yBbf/AK%2Bpv/QYqq1py6rdDSIJPKtsm5lB/wBDixwsfbbjv/nFVv7Yu/8Anja/%2BAMX/wATSVwKtFWv7Yu/%2BeNr/wCAMX/xNH9sXf8Azxtf/AGL/wCJp6gGn/8AHpff9eo/9Gx1VrTsdVumtrxjFbfLbAjFnEP%2BWqDn5eeveq39sXf/ADxtf/AGL/4mkr3YFWirX9sXf/PG1/8AAGL/AOJo/ti7/wCeNr/4Axf/ABNPUA0P/kNWf/X1H/6EKq1p6Pqt1Jq9rG0VsA1ygO2ziB%2B8O4XIqt/bF3/zxtf/AABi/wDiaWtwKtFWv7Yu/wDnja/%2BAMX/AMTR/bF3/wA8bX/wBi/%2BJp6gVatax/x9p/16wf8AopKP7Yu/%2BeNr/wCAMX/xNWdV1W6juVVYrb/j2hPzWcR6xKe60tbgZlFWv7Yu/wDnja/%2BAMX/AMTR/bF3/wA8bX/wBi/%2BJp6gVatTf8gW3/6%2Bpv8A0GKj%2B2Lv/nja/wDgDF/8TVmXVboaRBJ5Vtk3MoP%2BhxY4WPttx3/zik7gZlFWv7Yu/wDnja/%2BAMX/AMTR/bF3/wA8bX/wBi/%2BJp6gVa6j4bf8vv8A2z/9mrB/ti7/AOeNr/4Axf8AxNdH4AvJbv7X5qRDb5ePKgRP73XaBms6t%2BRjW50dFFFchYVm%2BMvCejePfCGq%2BBvEcDS6drWmz2F/ErbS8M0bRuAexKsea0qKAPDPhf8Aso/FDwRJrOq%2BJvj5Y6tq%2Bq%2BA7HwjDq1v4LWBrWwsY7v7JMIpbmeKS5869nlmZ0MU2I0EMSqd3En/AIJz%2BKbHwPceE/DPxN8CaSmt%2BK7fVfGGiab8KntdA1aytrTyLfSxp9vqcbR23m/6VKrTyCeRnRx5LtCfqmigCl4dttds9AsrTxPqNld6jFbIt9dadYNa28soUBmjheWVokJyQhkcgcbm61zHi3VdUtvEFxDb6lcRouzaiTMAPkXsDXaVwfjP/kZbn/gH/oC1tRSchS2Kv9ua1/0GLr/wIb/Gj%2B3Na/6DF1/4EN/jVWiumy7EFr%2B3Na/6DF1/4EN/jXzt%2B0b%2B3V8TpPHsv7J37GXhqbxb8UIju13U72WRNH8JwSohSa9mH33xllhXJPufkbsP2w/2kdI/ZV%2BAes/Fm7tPtuoxqtn4b0hQS%2BpanN8lvbqo5bL/ADNjkIjkdKzf2E/2bdV/Z0/Z4tR4/uvt3jzxdrF1r/xA1ZyGkudTuBG7puHVYgRGMfLlWYAbzXj42pWxOLjgsPLl05pyVrxi9IpX0Upu9nZ8sU5JXseLjq%2BJxWMWAw03DTmqSW8YvSKjfRTm72dnyxi5JX5Sj%2By7%2BxfpHwO8T3Xxx%2BJ/ji/8f/FrWY8a38QNbYmaMEYNvZpnFrAB8oVMEjgkLhF7r9o/9rT4f/sr/DuX4jfFnxrd28JfydN021laS81O5P3be3iBzJIx%2BgA5YqATXI/tYftkeC/2ZbKw8L6fol14r8f%2BI28nwh4C0Y7r3UpTkB2wD5MAIO6VhgBWwGIIrj/2cP2N/Gmo/ESL9rL9tXW7XxP8TZEzoukwfNpXg6E8i3s4ySDKP4pzk56EnMj4c9PDP6hlkFzr4pPWML/am95Te6jfme8nGO/6fwxwVk%2BTZPDOM85qOCbbpU4u1fFyT972bldxp82lXFTTineNNVato08L4e/s9/G39trxrp37RP7fFnNZeHtOuBd%2BAfgtLctJbaf/AHLvUgeJ7kg/6thhASCBlox9hadquqLZXarqVwBHar5YEzfL%2B8jHHPHBIrNq1p//AB6X3/XqP/Rsdejg8voYGm7e9OTvKT1lJ92%2B3ZK0YrRLv5/EnFOYcS16ftIxpUKScaNGmmqVGF78sI3bbb1nUm5VKsryqTbson9ua1/0GLr/AMCG/wAaP7c1r/oMXX/gQ3%2BNVaK7rLsfNFr%2B3Na/6DF1/wCBDf41Z0fWNXl1e1il1W5ZWuUDK07EEbhweazKtaH/AMhqz/6%2Bo/8A0IUmlZ6AH9ua1/0GLr/wIb/Gj%2B3Na/6DF1/4EN/jVWinZdgLX9ua1/0GLr/wIb/Gj%2B3Na/6DF1/4EN/jVWiiy7Aaeq6xq8dyqx6rcqDbQnAnYcmJST19arf25rX/AEGLr/wIb/GjWP8Aj7T/AK9YP/RSVVpJK2wFr%2B3Na/6DF1/4EN/jR/bmtf8AQYuv/Ahv8aq0U7LsBp32saultZsmq3ILWxLETtyfNcZPPoB%2BVVv7c1r/AKDF1/4EN/jRqH/HpY/9ep/9GyVVpJK2wFr%2B3Na/6DF1/wCBDf40f25rX/QYuv8AwIb/ABqrRTsuwGnFrGrnSJ5TqtzuFzEA3ntkArJkdfYflVb%2B3Na/6DF1/wCBDf40Q/8AIFuP%2BvqH/wBBlqrSSXYC1/bmtf8AQYuv/Ahv8aP7c1r/AKDF1/4EN/jVWinZdgNPStY1eS5ZZNVuWAtpjhp2PIiYg9fWq39ua1/0GLr/AMCG/wAaNH/4%2B3/69Z//AEU9VaVlfYC1/bmtf9Bi6/8AAhv8aP7c1r/oMXX/AIEN/jVWinZdgLX9ua1/0GLr/wACG/xqzrGsavFq91FFqtyqrcuFVZ2AA3HjrWZVrXP%2BQ1ef9fUn/oRpWV9gD%2B3Na/6DF1/4EN/jR/bmtf8AQYuv/Ahv8aq0U7LsBa/tzWv%2Bgxdf%2BBDf412vhKee58P281xM8jtv3O7Ek/O3c1wFd54M/wCRatv%2BB/8AobVjWSUSo7mpRRRXMUFFFFABRRRQAUUUUAFFFFABRRRQAUUUUAFFFFABRRRQAUUUUAFFFFABWD8Q/wDkCxf9fS/%2BgtW9WD8Q/wDkCxf9fS/%2BgtV0/jQnscbRRRXaQfNf/BWTw1ql9%2BxtqfxE8OQ79X%2BH2vaZ4q0k/wByW0uk3tntiF5Tn2r6O%2BHniTS/Geg6f4w0SbzLLVdFN5Zyf3opbYuh/wC%2BWFYnxa8A2PxV%2BFfiX4Yant%2Bz%2BItAvNMnLDgLPC8RP4bs15P/AMEnPH1/48/Yi8ERa3uTU/Duk3vh/UoHOWgksTNbKje/lxxn8a8b%2BBnsl0q00/nTlb/0ma%2B4/Qp/8KfhbCW8sFi5R9KeLpKS%2BXtsNL5y7s95ooor2T89CiiigC1rn/IavP8Ar6k/9CNVata5/wAhq8/6%2BpP/AEI1VpLZAFFFFMC1rH/H2n/XrB/6KSqtWtY/4%2B0/69YP/RSVVpLYAooopgWpv%2BQLb/8AX1N/6DFVWrU3/IFt/wDr6m/9BiqrSQBRRRTAtaf/AMel9/16j/0bHVWrWn/8el9/16j/ANGx1VpLdgFFFFMC1of/ACGrP/r6j/8AQhVWrWh/8hqz/wCvqP8A9CFVaXUAooopgFWtY/4%2B0/69YP8A0UlVatax/wAfaf8AXrB/6KSl1Aq0UUUwCrU3/IFt/wDr6m/9BiqrVqb/AJAtv/19Tf8AoMVJ9AKtFFFMArqPht/y%2B/8AbP8A9mrl66j4bf8AL7/2z/8AZqzq/wANjW51FFFFcZYUUUUAFFFFABXB%2BM/%2BRluf%2BAf%2BgLXeVwfjP/kZbn/gH/oC1tQ%2BMmWxl0UV4L/wUF/aB8V/CD4T2Xw5%2BDw8/wCJHxJ1EeHvAtrG2HinlwJbw/3UgjbeXwQrFM8E08ZiqWCw069TaK6bt7JLu22kl3aOPG4ulgMJPEVNorpu3sku7baSXVtHAeHR/wAN2ft4T%2BNJP9J%2BGPwDvns9GHWDWPFbAebOOzrartC%2Bj7WUkOa7z9qn9s/XPCPiS0/ZX/ZZ8KR%2BMvi/qIeY6exIsPDds6RYvtRkHCIAQyx53Nlem9A%2B58O/Bnwr/wCCen7Hi6ZNd40TwL4emvtZvyoEuoXAUyTzHPWSWUnauTyyqOgrmv8Agmr8KvEej/Aa6/aP%2BKViE8c/GHX7jxNrzsp3W9rIsZsrQE8iOOBgQp5Uysvavn4U8ZCUMKpctatepVktXCOyUb6X2pwbvblnKzZ9p4fZJgMoyDFcUZ5RVZxnCMKTbUKuJmnJQm1aUqOGoxUpxi4ud4QcoqpNvX/ZP/Yv0X4BXt/8VviN4pm8bfFLxIu7xR451NMyNnH%2BjWqni3tlwAEXGQozgKqr7fRRX0OFwmHwVBUqMbRX3tvdtvVtvVttts8vPM9zXiPMp47MKjnUlZbJKMUrRhCKSjCEFaMIQjGMYpJLdsq1p/8Ax6X3/XqP/RsdVataf/x6X3/XqP8A0bHW72PJKtFFFMAq1of/ACGrP/r6j/8AQhVWrWh/8hqz/wCvqP8A9CFJ7MCrRRRTAKKKKALWsf8AH2n/AF6wf%2BikqrVrWP8Aj7T/AK9YP/RSVVpLYAooopgWtQ/49LH/AK9T/wCjZKq1a1D/AI9LH/r1P/o2SqtJbAFFFFMC1D/yBbj/AK%2Bof/QZaq1ah/5Atx/19Q/%2Bgy1VpLqAUUUUwLWj/wDH2/8A16z/APop6q1a0f8A4%2B3/AOvWf/0U9VaXUAooopgFWtc/5DV5/wBfUn/oRqrVrXP%2BQ1ef9fUn/oRpdQKtFFFMArvPBn/ItW3/AAP/ANDauDrvPBn/ACLVt/wP/wBDasa/wDjualFFFcpYUUUUAFFFFABRRRQAUUUUAFFFFABRRRQAUUUUAFFFFABRRRQAUVm%2BM/FmjeAfB%2BreOvEczR6doumT39/Ii7isMMbSOQO5CqeK80%2BAn7TWv/EnU9V8PfFn4c2PgvUdP8IaT4pSOLxJ9vg/srUPtYjaWVoIBFPE1lOs0YDxp8hWVw3AB67XnHxw%2BNfwt8CeLPCnwm8YeMrTTtf8YyXcnhmxuyU%2B3/ZVi85EcjbvH2iIhCQzAkqDtbFT9lb9pdP2n9C8U%2BJLbwFd6Da6D4tfStNF9c75dRszZWd7b3zR7FNv5sN5G3ktl0GAxDZVaH7bH7L/AMJP2rPhIngD4raI0givln0jV7N/KvdJuQrbbi2lAzG4IB7q2MMCOKzrPExp3w6Tmtk7pPurra6uk9bOzaauc2MeLjhpPDJOa2UrpPXVXW11dJ2aTs2mrmjRXyV8Lf2nPi3%2Bx/470/8AZp/b11lb3S7%2Bb7N4B%2BM3l7LPVh/Ba6iSSLe6A/jY4fBJJwZH%2BtFZWUMpBBGQR3rfBY6jjoPlTjKOkovSUX2a/Jq6ktU305cBmFDHwfKnGcdJQlpKL7NfimrxktYtrZa%2BZf8Agnr/AMW0/ac/aN/Zwk/dxad42bxVpcR6fZ9XsjMwT/ZRowMDgFq%2Bmq%2BZdf8A%2BLTf8Fc/B3iQHyrL4rfCfV9DkXosl/p2btXP%2B15LBB7Vx5t%2B6rYbEfy1FF%2BlROH/AKVyH6jwN/t%2BWZ1lD/5fYWVWK/6eYScMQvn7P269Ln01RRRXsn56FFFFAFrXP%2BQ1ef8AX1J/6Eaq1a1z/kNXn/X1J/6Eaq0lsgCiiimBa1j/AI%2B0/wCvWD/0UlVatax/x9p/16wf%2BikqrSWwBRRRTAtTf8gW3/6%2Bpv8A0GKqtWpv%2BQLb/wDX1N/6DFVWkgCiiimBa0//AI9L7/r1H/o2OqtWtP8A%2BPS%2B/wCvUf8Ao2OqtJbsAooopgWtD/5DVn/19R/%2BhCqtWtD/AOQ1Z/8AX1H/AOhCqtLqAUUUUwCrWsf8faf9esH/AKKSqtWtY/4%2B0/69YP8A0UlLqBVooopgFWpv%2BQLb/wDX1N/6DFVWrU3/ACBbf/r6m/8AQYqT6AVaKKKYBXUfDb/l9/7Z/wDs1cvXUfDb/l9/7Z/%2BzVnV/hsa3OoooorjLCiisT4leN7H4Z/DnX/iRqdrJPbeH9Eu9SuIYjhpEghaVlHuQhAoA26K%2BavD/wC1V%2B0L4d8B/EKT4geDfD/iPxV4a%2BDdh4%2B8P6Z4R066to7xrqLUcaWyPNcSSyJNp4Xz02mVbhdsKsuG5v4fftwfFj4v/EOL9nn4T/Ef4Z6/4kfU5ZV%2BIGm%2BHrybQp9NTTIrk%2BXapqBdpxczLbnbdsihHcjeDCoB9c1wfjP/AJGW5/4B/wCgLVn9nX4rt8d/gF4L%2BNMujjTpPFfhaw1WbT1l8wWsk8CSPEGwNwVmK7sDOM96TxbpWqXPiC4mt9NuJEbZtdIWIPyL3Arai0pClsc/eXlpp9pLf391HBBBG0k00rhUjRRksxPAAAJJNfJ37HNpd/tf/tH%2BI/8AgoJ4ntpD4b04T%2BGfg1aXCEBbCN2S71MKejzyb0B4YLvQ5AU1tf8ABRDxP48%2BJOseGP8Agnv8IZLu28UfFHc/ia9t4iZNG8Mxt/plyRjgygNCmeG/eLkEivoHRPBfhT9n/wCEsGj6fop0Twr4P0LaGeFljs7K2iyXY46KiFmY8nknmvNqSjmGZcrf7qhq%2BzqWul6U4vmf96Uex4Hs55znUaEE5QotaLXmrO3JFLryKSdtffnBbo%2Ba/wBvCab9pH45/Dr/AIJ/aLKz6frV0vir4m%2BU3%2Br0KzlBjgfHQXFwoQHqGRD0NfWwhht/D9rb28Sxxx3EqoiLgKAkQAAHQV8uf8E2PBHi74rjxr%2B3t418N3qan8WtYLeG4Zrdi1j4dtSYbKIf3S4UuxHD4Ru9fV0uj6udIgiGlXO4XMpK%2BQ2QCseD09j%2BVPKP9oU8dLes7rypxuoL5q835zR%2Bw%2BIE4ZVUw3C9B3jgIuNRraWKqWniZXWj5JcmHi9fdoO2jMyirX9h61/0B7r/AMB2/wAKP7D1r/oD3X/gO3%2BFe1ddz86KtWtP/wCPS%2B/69R/6Njo/sPWv%2BgPdf%2BA7f4VZsdH1dLa8V9KuQWtgFBgbk%2BahwOPQH8qTatuBmUVa/sPWv%2BgPdf8AgO3%2BFH9h61/0B7r/AMB2/wAKd13Aq1a0P/kNWf8A19R/%2BhCj%2Bw9a/wCgPdf%2BA7f4VZ0fR9Xi1e1ll0q5VVuULM0DAAbhyeKTas9QMyirX9h61/0B7r/wHb/Cj%2Bw9a/6A91/4Dt/hTuu4FWirX9h61/0B7r/wHb/Cj%2Bw9a/6A91/4Dt/hRddwDWP%2BPtP%2BvWD/ANFJVWtPVdH1eS5Vo9KuWAtoRkQMeREoI6etVv7D1r/oD3X/AIDt/hSTVtwKtFWv7D1r/oD3X/gO3%2BFH9h61/wBAe6/8B2/wp3XcA1D/AI9LH/r1P/o2Sqtad9o%2BrvbWappVyStsQwEDcHzXODx6EfnVb%2Bw9a/6A91/4Dt/hSTVtwKtFWv7D1r/oD3X/AIDt/hR/Yetf9Ae6/wDAdv8ACnddwCH/AJAtx/19Q/8AoMtVa04tH1caRPEdKudxuYiF8hskBZMnp7j86rf2HrX/AEB7r/wHb/Ckmu4FWirX9h61/wBAe6/8B2/wo/sPWv8AoD3X/gO3%2BFO67gGj/wDH2/8A16z/APop6q1p6Vo%2Brx3LNJpVyoNtMMtAw5MTADp61W/sPWv%2BgPdf%2BA7f4Urq%2B4FWirX9h61/0B7r/wAB2/wo/sPWv%2BgPdf8AgO3%2BFO67gVata5/yGrz/AK%2BpP/QjR/Yetf8AQHuv/Adv8Ks6xo%2Bry6vdSxaVcsrXLlWWBiCNx56Urq%2B4GZRVr%2Bw9a/6A91/4Dt/hR/Yetf8AQHuv/Adv8Kd13Aq13ngz/kWrb/gf/obVxv8AYetf9Ae6/wDAdv8ACu18JQT23h%2B3huIXjdd%2B5HUgj527GsazTiVHc0aKKK5igooooAKKKKACiiigAooooAKKKKACiiigAooooAKKKKACiiigDN8ZeE9G8e%2BENV8DeI4Gl07WtNnsL%2BJW2l4Zo2jcA9iVY814p4I/Yn1T7FrukfHj4oWnjSy8SeBdP8GaxBaaFcaQ8%2Bi2S3Xkp5kF8zpcSPe3DTyoVWQGNUjhCHd77RQB5j%2Bzl%2BzD4d/Zv1Xx1feHvF2varF408Ux6wI9d1/UNQkslSwtbQQ%2Bbe3M7SNm3ZzL8rEOiEFYUrtPHd1dWekRy2lzJExuQC0blTja3HFbVYPxD/5AsX/X0v8A6C1XT%2BNCex5p8WPh/wCEPjp4A1H4W/FvRY9e0DVYfLvtNv2Z0cdQw5yjqcMrqQykAggjNfK2jfEv47/8EtNUtvBXxX8T6940%2BAE06W%2Bg%2BMTJJPqXgoMdsdteqvM1oMhUlAyowoA%2BSOvsKq%2Br6PpPiDSrnQte0y3vbG8geG7s7uFZIp42BDI6MCGUgkEEYINZY3Lo4iarUXyVY7St0/lkvtRfbdbxae/kY/LfrM1iKEvZ1o7SWt1/LNfag%2Bz1W8XGW83h7x7H4t0K08T%2BFvGP9o6bqFuk9jf2V/5sNxEwyro6khlIOQRXk/7Xv7NvxA/aQg8J%2BLfhd8WT4W8dfD3WZda8J6zfWf2uDzPs7rJbyoTkRyLtBZckYztbpXiPiH4Z/GH/AIJl67d/Er9nbRtS8Y/BG6uGufFPw1jkM194X3HdJeaYWOXhHLPATxyc4Jkj%2Bq/gP8ZPhp8fPBFl8UvhJ4ttda0TUrGdre8tm%2B6fKbdG6n5o5FPDIwDKeCK5o1qGZ0p4LFw5KiWsb7pNWnCSs2rpNNaxekknv6vCvFmY5NnEMRRtSxdK75ZJTjKMlKErKS5alKcZSjJNbScZqLsz580f/gpB8W/gHqlv4I/4KHfCvUvBEkkogtfiH4blmv8Aw1fueATIuZLQseiSAnGS20V9M%2BFPiVp/jvw/a%2BLPBPjyLV9LvYxJZ6jpmpieCZfVXRirD6Gm6xo2j%2BItKuND8QaVbX1ldxGK6s7yBZYpkPBV0YEMD3BGK%2BZfFf8AwTlufhh4huviX%2BwN8Xr74U63cSGa88NbTd%2BG9Tf0ls3yISem%2BP7g%2B6gPNHJmuX7fv6fnaNRfPSE/nyS82fpHPwFxX8a/svFPquepg5vzj71fDX/uvEUl/LFLT6t/tzWv%2Bgxdf%2BBDf40f25rX/QYuv/Ahv8a%2BTND/AOChfjP4G6vb%2BA/%2BChfwWufh/dTSiC08e6Gsl94a1FzwCJlDPaluySZIGSxUV9NeGfFPhnxroNr4p8HeIbHVdMvYhJZ6hpt0k8E6HoyOhKsPcGu3B5hgsddUn7y3i1yyj6xdmvXVPo2fN8QcI5/w0oVMbSvRqfw6sJKpRqW/591oOUJecbxnH7VOLOi1jWNXi1e6ii1W5VVuXCqs7AAbjx1qt/bmtf8AQYuv/Ahv8aNc/wCQ1ef9fUn/AKEaq12JKy0Pmi1/bmtf9Bi6/wDAhv8AGj%2B3Na/6DF1/4EN/jVWinZdgNPVdY1eO5VY9VuVBtoTgTsOTEpJ6%2BtVv7c1r/oMXX/gQ3%2BNGsf8AH2n/AF6wf%2BikqrSSVtgLX9ua1/0GLr/wIb/Gj%2B3Na/6DF1/4EN/jVWinZdgNOXWNXGkQSjVbncbmUFvPbJAWPA6%2B5/Oq39ua1/0GLr/wIb/Gib/kC2//AF9Tf%2BgxVVpJLsBa/tzWv%2Bgxdf8AgQ3%2BNH9ua1/0GLr/AMCG/wAaq0U7LsBp2Osau9teM%2Bq3JK2wKkztwfNQZHPoT%2BdVv7c1r/oMXX/gQ3%2BNGn/8el9/16j/ANGx1VpJK70Atf25rX/QYuv/AAIb/Gj%2B3Na/6DF1/wCBDf41Vop2XYDT0fWNXl1e1il1W5ZWuUDK07EEbhwearf25rX/AEGLr/wIb/GjQ/8AkNWf/X1H/wChCqtKyvsBa/tzWv8AoMXX/gQ3%2BNH9ua1/0GLr/wACG/xqrRTsuwFr%2B3Na/wCgxdf%2BBDf41Z1XWNXjuVWPVblQbaE4E7DkxKSevrWZVrWP%2BPtP%2BvWD/wBFJSsr7AH9ua1/0GLr/wACG/xo/tzWv%2Bgxdf8AgQ3%2BNVaKdl2Atf25rX/QYuv/AAIb/GrMusauNIglGq3O43MoLee2SAseB19z%2BdZlWpv%2BQLb/APX1N/6DFSaXYA/tzWv%2Bgxdf%2BBDf40f25rX/AEGLr/wIb/GqtFOy7AWv7c1r/oMXX/gQ3%2BNdH4Avr29%2B1/bLyWXb5e3zZC2M7uma5Kuo%2BG3/AC%2B/9s//AGas6qXIxrc6iiiiuQsKq65ouleJNFvPDuu2Md1Y39rJbXltKMrNE6lXQ%2BxUkH61aooA8g%2BG37HXhz4a22qR2fxj8d6jcat4Xt/Dk2pX%2Bp2qXcOlWsU8dnbRT21tFJGbc3VzIkwPntJMWkkkIXbRP7D/AIbJHiQfHHx6vjX%2B231KT4irPpo1aQvYLYG3KfYfsYg%2BzogEa24w6CUHzcyH22igDG%2BHPgDwt8KPh7oXwu8Dad9j0Xw3o9tpekWpkLmG2t4liiQsxJYhEUZJyeprgfj78RPCXwk0TxF8TvHeqLZaPoOnNe6jct/BFHEGOB/ExxgKOSSAOTXq9fBv7dFxP%2B2X%2B2LpH7BXh%2BZ5PCXh37J4n%2BMtxCx2vAgR7LSmI/imfbIy8HZtYH5CK5sXi5YOg3TV6krRgu8nt8lrKXaMX5HmZtjZYHCc1NXqSajBd5y0XyWspPpGL8iT/gnZ8O/FnjU%2BJP27/jLpbW/i34rypNo9hNy2i%2BHU/wCPK0XPTegWViMb8xkgMDTP%2BClHibXfiHp/g39hj4falJBrnxf1oW2sXFufnsNAt8TX859MoAgB4cGRetfTscdpYWixRRxwQQRgKqgKkaAcADoAAK%2BVf2HEf9pn9of4i/t9ashl0m7uG8IfC8yDKjRrOQ%2BfdJntPcAsD1BWQdDXJicKqGCpZXTleVVvnl1cfiqzfnK/Kv8AGktkfo3hbl1HhylX4gre9HL4qcXJfxMZVbjh7rZ/vefESWtoYeK2Pp/wv4Z0LwX4Z07wd4Y06Oz03SbGKz0%2B0iGFhgiQIiD2CqB%2BFbM3/IFt/wDr6m/9BiqrVqb/AJAtv/19Tf8AoMVfRKKikktEfF1KlStUlUqNuUm229W222231bbbb6ttlWiiiqICrWn/APHpff8AXqP/AEbHVWrWn/8AHpff9eo/9Gx0nsBVooopgFWtD/5DVn/19R/%2BhCqtWtD/AOQ1Z/8AX1H/AOhCk9mBVooopgFFFFAFrWP%2BPtP%2BvWD/ANFJVWrWsf8AH2n/AF6wf%2BikqrSWwBRRRTAtah/x6WP/AF6n/wBGyVVq1qH/AB6WP/Xqf/RslVaS2AKKKKYFqH/kC3H/AF9Q/wDoMtVatQ/8gW4/6%2Bof/QZaq0l1AKKKKYFrR/8Aj7f/AK9Z/wD0U9VataP/AMfb/wDXrP8A%2BinqrS6gFFFFMAq1rn/IavP%2BvqT/ANCNVata5/yGrz/r6k/9CNLqBVooopgFd54M/wCRatv%2BB/8AobVwdd54M/5Fq2/4H/6G1Y1/gHHc1KKKK5SwooooAKKKKACiiigAooooAKKKKACiiigAooooAKKKKACiiigAooooAKwfiH/yBYv%2Bvpf/AEFq3qwfiH/yBYv%2Bvpf/AEFqun8aE9jjaKKK7SAr5m8YfsV/GT4OfF6%2B%2BPn/AATw8W%2BHfDOpa5HO3jHwB4qjn/4R7WW8pyblUtxutrnrygAYnkqN4f6Zq1o//H2//XrP/wCinrjxuBw%2BNglUunF3jJO0ovumtV2e6a0aaOLG5fhsfGKqXTi7xlF2lF94yWq7PdNaNNHyf/w2r%2B2H8J/3f7SP/BPXxPPaxf6zXfhbqsOuRyDu4tQVljUf7TZxXR/Dz/gqR%2BxB8QNR/wCEfuvjRb%2BF9XVgs%2BkeNrOXSJoWP8LNcqsefo5r6DrnPiJ8H/hP8XNO/sj4qfDPQPEdttIWHXNIhulX6eYp2n3Fcf1TN6H8HEKa7VIL/wBKhyv74s4fqedYf%2BBilNdqsE//ACem4v74su7vA3xO8KyQ7tJ8Q6HqUJSVcxXdpdRnqpHzI6n05FfOPiT/AIJ06r8JvEFz8Rv2AfjJe/C/VbiXzr3wncBr3w3qb9xJaOSYCem%2BPO0cKq9ata5/wSc/ZattTl8R/BO/8ZfCzV5TubUfh34tubIlu2Y3MkYH%2ByqqMVT/AOFC/wDBTj4P/P8ACL9sXwx8QbGL/U6N8UvCxgkC/wB03lkfMkY%2BrAc1xYuNevZ4zBtuO06Uk5R81/DqL0TafVM%2BjyDj3jThJzjRpN0qn8SEXCvRqJdKmHqqKn5Pl54/ZnF6lrVPj/8A8FPfhVqdynxh/Ys8LeOoY7hxd6t8LfGHk4IY5ZLS%2BBlkz2AIpll/wVk/Zy0G7j0r4%2BeCfiF8K7x22eV478FXMMbP/syQiVSvoxwMc8VJqv7S3/BS/wADapcj4lf8E9dK8RIs7/adQ8CfEW3AB3HOy3uV8xu%2BOapXv/BTnwbpFrJpnx8/Y7%2BM/hKB123U%2BseAWurBl7jzYnYOP%2BA1yLHPDr3cXOHlWpNr/wACUYv58z9T6D/iJPh1jtM4yRUX1lQnicK/XkqRxVD8Yr8z3D4YftMfs8fGlE/4VP8AG7wt4gkcZFtpmtwyzr7NEG3qfYgGu4r4R1vxt/wQg/aYnb%2B338AabfSP%2B9nl0658N3CyeryhLfLA9yxHHeup8FfsbeD54xefsQ/8FL/GmkIBm20638X2viXS4h2220jHj6ucgV2YfOMXU%2BBUqy/6dVVf/wABn/8AJHbhoeEmff8AItzmpQk/s16UKsf/AAZhKkn83h/lfQ%2Bz9Y/4%2B0/69YP/AEUlVa%2BZNR8Kf8Fffh5cKumfFj4NfESCO3i3P4g0K80m7lTy1xtFqTErYx14qD/hrH/goD4F%2BT4p/wDBOG61O3T7%2Bp%2BBPHlpeb/XbbOok/M11rOaUF%2B%2Bo1YetOTX3wc0dv8AxDrHYnXLswwWJ7KGKpwk/wDtzELDyv5XbPqKivl3/h698FvDPy/G34IfFz4dlP8AXTeLPh9cLCvqQ8Bk3L74rtfAn/BSH9hP4jbB4a/ak8JRtJ9yPV9R/s5yfTbdiM59sZrWnneT1Zcsa8L9m%2BV/dLlf4HJjPDXxAwNF1quV13T/AJ4U3Vh/4HRdeH/kx7vN/wAgW3/6%2Bpv/AEGKqtQaF4u8KeMPDFtqXhHxPp2q25uZSLjTr2OdD8sX8SEip69KEoyjdO6PjKtKrRqOFSLjJbpppr1TSa%2BaQUUUVRmWtP8A%2BPS%2B/wCvUf8Ao2OqtWtP/wCPS%2B/69R/6NjqrSW7AKKKKYFrQ/wDkNWf/AF9R/wDoQqrVrQ/%2BQ1Z/9fUf/oQqrS6gFFFFMAq1rH/H2n/XrB/6KSqtWtY/4%2B0/69YP/RSUuoFWiiimAVam/wCQLb/9fU3/AKDFVWrU3/IFt/8Ar6m/9BipPoBVooopgFdR8Nv%2BX3/tn/7NXL11Hw2/5ff%2B2f8A7NWdX%2BGxrc6iiiiuMsKKKKACiiigAr56%2BFn7M/hP9nvxl8QNe0nU59T1fx743vvEWt6pdpiQ/aJGeC1XknyreJhEgzjhmwu7aPoWuD8Z/wDIy3P/AAD/ANAWnTo0qleNSSu43s%2B11Z/hoYVcPRqVYVJRvKF7PtdWdvVaf8Oz5i/4KV/FbxR4W%2BB9p8D/AIW3GPG/xa1ePwr4bVWIaFJ%2BLq6OOVSOAtlx9wyI3avY/gx8KfC/wM%2BFHh74P%2BC7fy9M8OaTDY2pKgNIEUBpGx1d23Ox7sxNfOvwI/4yz/b88Y/tKXP%2BkeEvhHFL4M8BseY5tUcZ1O8T3UEQBhkMjKe1fWFcmW/7ZiquOez9yH%2BCLd3/ANvzu/SKP0rjH/jHsiwPDEdKkUsTif8Ar/XhF06b/wCvGGdONntOtU2dwq1N/wAgW3/6%2Bpv/AEGKqtWpv%2BQLb/8AX1N/6DFXsvofnBVooopgFWtP/wCPS%2B/69R/6NjqrVrT/APj0vv8Ar1H/AKNjpPYCrRRRTAKtaH/yGrP/AK%2Bo/wD0IVVq1of/ACGrP/r6j/8AQhSezAq0UUUwCiiigC1rH/H2n/XrB/6KSqtWtY/4%2B0/69YP/AEUlVaS2AKKKKYFrUP8Aj0sf%2BvU/%2BjZKq1a1D/j0sf8Ar1P/AKNkqrSWwBRRRTAtQ/8AIFuP%2BvqH/wBBlqrVqH/kC3H/AF9Q/wDoMtVaS6gFFFFMC1o//H2//XrP/wCinqrVrR/%2BPt/%2BvWf/ANFPVWl1AKKKKYBVrXP%2BQ1ef9fUn/oRqrVrXP%2BQ1ef8AX1J/6EaXUCrRRRTAK7zwZ/yLVt/wP/0Nq4Ou88Gf8i1bf8D/APQ2rGv8A47mpRRRXKWFFFFABRRRQAUUUUAFFFFABRRRQAUUUUAFFFFABRRRQAUUUUAc98XfGtz8NfhP4n%2BItlpwvJtA8O3upRWhz%2B/aCB5QnHPJXHHrXin7P3jb4%2B6prvib4Q%2BIfjemvavP8IvD3inRfE%2Br%2BH7Ty9L1HUjqkEiGCzW3WWzSSxiljjdvNIMqtM3ysv0Tc21veW8lpdwJLFKhSWKRQyupGCCDwQRxivLdB/Yp/Zz8M%2BENa8CaJ4T1eDTPEOhvourQ/wDCZaqzy6abd7dLNZWujJFBFFJIIY42VbcyO0IjZmJAM79jfxr8QPHWleLNW1r4kaj408JR%2BIUh8B%2BMtZ06ztrjWbRbSAXE6CzgghktftXnrDMI18xVLAyRmOV/TPHdtJdaRHHE0YIuQf3kqoPut3YgVQ%2BFXwd8F/BjRn8PeB7jX2s32BIdd8Xalq3kqi7VSI31xMYUA42IVXgcVb%2BIf/IFi/6%2Bl/8AQWq6fxoT2OX/ALHu/wDnta/%2BB0X/AMVR/Y93/wA9rX/wOi/%2BKqrRXZqQWv7Hu/8Anta/%2BB0X/wAVVnStKuo7lmaW2/49phxeRHrEw7NWZVrR/wDj7f8A69Z//RT0newB/Y93/wA9rX/wOi/%2BKo/se7/57Wv/AIHRf/FVVop6gWv7Hu/%2Be1r/AOB0X/xVH9j3f/Pa1/8AA6L/AOKqrRRqBp6xpV1Jq91IstsA1y5G68iB%2B8eoLZFVv7Hu/wDnta/%2BB0X/AMVRrn/IavP%2BvqT/ANCNVaSvZAZHjT4GfDT4kRGD4ifDfwpryMMMmtWdndAj0xLurx/xr/wSY/YL8dSGfU/2bfDNjLnckugam2mlG7FRazRgY%2BmK93orkxGXYHF/x6UJesYv8Wr/AInFicty3Gf7xQhP/FGL/Fq/4nzbff8ABJPwH4dnX/hUv7VHxp8GqsMZjg0T4pnyVOxTgpMH3LnoM9Mc1D/wwx%2B3P4V5%2BGf/AAVC11UX7sHi3wrpWrbx6NI7qw%2BoGa%2BotY/4%2B0/69YP/AEUlVa41kOWpfu4uH%2BGc4/lO34HF/q9lEf4cHD/BOpH/ANJqW/A%2BZ/8AhXP/AAWK8H/8gX4yfAjxjGvX/hItOutPkkHt9lcqD%2BlcV478H/to%2BIA5%2BNv/AASi%2BC/xHz/rrrSPG2lxOfVl%2B3Rs%2Bfoc19m0VFTI1UjyrEVLdm4zX3VISOrB4XMcrre2y/MMTQmusKrv97Sf/kx%2Banin4J/s3WTJq3jv/gjF8ZvC%2BpLK%2B7UvhpqUt6EGF4QWt2kZxyeF7isj/hNP2b/Av7zSP2j/ANsr4VbOln4isruezh/3oTFJnH%2B9X6mTf8gW3/6%2Bpv8A0GKqteY%2BFYxbdOpFP/r1GL%2B%2BnOm/wPs6fiJ4vUYKm8/q1oraOIp0sQrdv3samnpY/Nbwz%2B2DqUThfhn/AMFtNB1CMHC6b8RfhMLXafR7ho0c16N4Z/bN/bPQKNF%2BP37IfxAi/gh0z4kHTb9/95Jptik/SvszxF4A8B%2BMFKeLfBOkaoCMEajpsU4P/famuA8S/sK/sX%2BLtza9%2Byr4Akd/vTReFLWGQ/V40Vv1pf2HndL%2BDif/ACasvwk6qNP%2BIh8Y1P8AfcDlmK/x4L2Un/29h50nfzszzTw5%2B29%2B2jY2FzJ4l/4J2Taxbm3AfUfh/wDFTSdZQr5iHeIojuUcYwT3FDf8FQvD%2BgHy/id%2Bxv8AHjwwV/1lzffD1pbYfSWKVtw%2BgrW1D/gkD/wTs8QrdX0v7OlvZ3EUAeGfStf1G1MbeYgyBFcKvQnqKyf%2BHS/7PWmf8iP8U/ix4Yx9z%2BwPiNdx7Pp5m%2BhUOL6Pw1Iy9XB/nTh%2BYf645XW/3zhbD%2BuHx%2BLo/dGrCvH5N2Lei/8ABXf9gPUrsaZq3xqm0O8/itNf8Nahasv1ZoNg/wC%2Bq9I8J/trfsdeNwo8OftV/DqV3%2B5BceNLGCU/SOWVW/SvItX/AOCY/ieS1Njon/BQL43vB/Db%2BJfEMGrRj22zQgEe1efeKf8Agjx8SdZ3PB%2B1R4Uvyf8AoY/gFoN3K3sZwFkH1FP65xjS%2BLDwn6WX5VP0D%2B2/D2v/ABsnzCh/17xWBxC%2B6rSw8rfO/mfdvgbXPDfinULW98L%2BLtF1OJbiNi%2Bm61b3AxuH/PNzmrP9j3f/AD2tf/A6L/4qvzK1H/gh/wDGi41WGXRtT%2BDWpXRmUQz3Oj6xpGGJxnGn3IA/AVkn/gmD/wAFKvBxz4M%2BI%2Bj6cqH92PA/xd1%2BxYD2%2B1pIAan%2B3s/pP97l0n/hd/z/AOCL2nhpW%2BHF4%2Bj/ANfMvjUS/wC3sNjZX%2BUF6H6l/wBj3f8Az2tf/A6L/wCKo/se7/57Wv8A4HRf/FV%2BXb/Aj/guB4Ejx4O8S%2BMtSdB8jXfxX0q%2BB/C8t1z%2BJqXT/ij/AMF8/AyZ8TeDNV1fZ/yzbwrod2Mem6znQt9atcVzg7VsFXj/ANucy/CxEsFwXUjejnlNeVXCZhSf/qNWivnI/T/%2Bx7v/AJ7Wv/gdF/8AFVZ1XSrqS5Vlltv%2BPaEfNeRDpEo7tX5fR/8ABRv/AILF%2BDZxB4r/AGDJtUtk%2B/cxfDzVkf6loJ5UH5Vr3X/Bbb9qPw3Ij/Ej/gnbrQKxRrJ5E%2BoWZACKM4nsW7DPX8apcZZMn%2B89pD/FSqL9Gc88rypfws3wU7/9RPI/mq2Ho2%2BbP0h/se7/AOe1r/4HRf8AxVH9j3f/AD2tf/A6L/4qvznsP%2BDhL4YWEqw/ED9l3xhpDk4ZYL6GYg/9tVhz%2Bldd4f8A%2BC/v7EGr4XVPD/j3Sm/iN5oVu6j8YblyR%2BFb0%2BL%2BGqjssVFet1%2BcUczyxt2p4nDVP8GLwkvwWJi/wPur%2Bx7v/nta/wDgdF/8VVmXSro6RBH5ttkXMpP%2BmRY5WPvux2/zmvkTw/8A8FpP%2BCdGubVuPjjcac7dE1DwvqA/NkgZR%2BJrv9G/4KZfsDeJNJt4dO/as8IRv9olYrfah9lIBWPBPnBMdD%2BVd9PPMmrW5MVTf/b8f1aF/ZOZP4aTl/hcJ/8ApFSf5Huf9j3f/Pa1/wDA6L/4qj%2Bx7v8A57Wv/gdF/wDFV5non7W37KviZlj8O/tMfD%2B/ZvupZ%2BMrGRj%2BCyk12ejeKvDHiNPM8PeI7C/XGd1leJKP/HSa76eIoVv4dSMvRp/lJmVbL8ww0OatRnFd5Qml97gl%2BJs/2Pd/89rX/wADov8A4quj8AWctp9r814ju8vHlTo/97rtJxXJV1Hw2/5ff%2B2f/s1VVvyM5FudRRRRXIWFFFc18ZvEPiXwj8H/ABX4r8GWf2jWNM8NX13pVv5e/wA25jt3eJdv8WXVRjvmgDpaK%2BJLL4jeI/hj8F/i%2BnhP47eLNQ0%2Bz/Zk0PxfaeKL7W5dZurDWL231pZL2B7qUhBItpazCBXjgjMe5RGshNcPqWtftLP401D9nS21rUk8Q2XiXUb3/hDW%2BOuuJp9tZp4bsJ1ZfExjGoTMtxcCYWckKxkzyZxHCkzAH6J18t/8FLv2gdV/Z2%2BCOv8AiDwajzeLdemt9A8EWUP%2BtuNWvFEUOwdymWlx38rHevbv2aPFs3j79nH4f%2BO7jX73VpNa8E6VfyapqVkttc3jTWcUhmlhUlYpH3bmQEhSSATivk3xZFb/ALYf/BUu5ja/ifwT%2Bz1ZIWLh2hvPFN3GBj5VIY28S/WOVf8AargzGvVp0PY0XapVfJF9r/FL/t2KlL15T7fgLLcFic5lmOYQ5sJgoPEVU9pqDSp0v%2B49d0qVv5XUfQ9R/ZI/Z%2B0n9l79nfwv8FNNdJZtJ08HVbxeftd9ITJczZPJ3Ss5GeQu0dq9Hq1/Z9p/0HLX/viX/wCIo/s%2B0/6Dlr/3xL/8RXs0KVHDUI0aatGKSS8krI%2BTzTMsbnOZ18wxk%2BerWnKc5PrKcnKT%2B96LokktEirVqb/kC2//AF9Tf%2BgxUf2faf8AQctf%2B%2BJf/iKsy2NqdIgT%2B2LYAXMpDbZcH5Y%2BPuZ//XWjaOAzKKtf2faf9By1/wC%2BJf8A4ij%2Bz7T/AKDlr/3xL/8AEU7oCrVrT/8Aj0vv%2BvUf%2BjY6P7PtP%2Bg5a/8AfEv/AMRVmxsbVba8A1i2ObYAkLL8v71OT8n4cetJtWAzKKtf2faf9By1/wC%2BJf8A4ij%2Bz7T/AKDlr/3xL/8AEU7oCrVrQ/8AkNWf/X1H/wChCj%2Bz7T/oOWv/AHxL/wDEVZ0extU1e1ddYtmIuUIVVlyfmHHKYpNqzAzKKtf2faf9By1/74l/%2BIo/s%2B0/6Dlr/wB8S/8AxFO6Aq0Va/s%2B0/6Dlr/3xL/8RR/Z9p/0HLX/AL4l/wDiKLoA1j/j7T/r1g/9FJVWtPVbG1a5UtrFsv8Ao0Iwyy/88l54Tv1qt/Z9p/0HLX/viX/4ikmrAVaKtf2faf8AQctf%2B%2BJf/iKP7PtP%2Bg5a/wDfEv8A8RTugDUP%2BPSx/wCvU/8Ao2Sqtad9Y2rW1mDrFsMWxAJWX5v3r8j5Pw59Krf2faf9By1/74l/%2BIpJqwFWirX9n2n/AEHLX/viX/4ij%2Bz7T/oOWv8A3xL/APEU7oAh/wCQLcf9fUP/AKDLVWtOKxtRpE6f2xbEG5iJbbLgfLJx9zP/AOqq39n2n/Qctf8AviX/AOIpJoCrRVr%2Bz7T/AKDlr/3xL/8AEUf2faf9By1/74l/%2BIp3QBo//H2//XrP/wCinqrWnpVjarcsV1i2b/RphgLL/wA8m55Tt1qt/Z9p/wBBy1/74l/%2BIpXVwKtFWv7PtP8AoOWv/fEv/wARR/Z9p/0HLX/viX/4indAVata5/yGrz/r6k/9CNH9n2n/AEHLX/viX/4irOsWNq%2Br3TtrFspNy5KssuR8x4OExSurgZlFWv7PtP8AoOWv/fEv/wARR/Z9p/0HLX/viX/4indAVa7zwZ/yLVt/wP8A9DauN/s%2B0/6Dlr/3xL/8RXa%2BEo0i8P28cc6SAb8OgOD87eoB/SsazTiVHc0aKKK5igooooAKKKKACiiigAooooAKKKKACiiigAooooAKKKKACiiigAooooAKwfiH/wAgWL/r6X/0Fq3qoeItE/t6yWz%2B1eVtlD7tm7OARjqPWqg0ppsT2PPqK6j/AIVt/wBRr/yW/wDsqP8AhW3/AFGv/Jb/AOyrq9rT7k2Zy9WtH/4%2B3/69Z/8A0U9b3/Ctv%2Bo1/wCS3/2VS2fgD7JKZf7W3ZidMeRj7yFc/e980nVhbcLM5Kiuo/4Vt/1Gv/Jb/wCyo/4Vt/1Gv/Jb/wCyp%2B1p9wszl6K6j/hW3/Ua/wDJb/7Kj/hW3/Ua/wDJb/7Kj2tPuFmYOuf8hq8/6%2BpP/QjVWutvvAH229mvP7W2%2BbKz7fIzjJzj71Rf8K2/6jX/AJLf/ZUlVhbcLM5eiuo/4Vt/1Gv/ACW/%2Byo/4Vt/1Gv/ACW/%2Byp%2B1p9wszB1j/j7T/r1g/8ARSVVrrbzwB9rlEv9rbcRImPIz91Aufve2ai/4Vt/1Gv/ACW/%2BypKrC24WZy9FdR/wrb/AKjX/kt/9lR/wrb/AKjX/kt/9lT9rT7hZmDN/wAgW3/6%2Bpv/AEGKqtda/gDfZR2f9rf6uV33eR13BRj73%2Bz%2BtRf8K2/6jX/kt/8AZUlVh3CzOXorqP8AhW3/AFGv/Jb/AOyo/wCFbf8AUa/8lv8A7Kn7Wn3CzMHT/wDj0vv%2BvUf%2BjY6q11tv4A8iKeL%2B1s%2BdEEz5HT51bP3ufu4/Gov%2BFbf9Rr/yW/8AsqSqwvuFmcvRXUf8K2/6jX/kt/8AZUf8K2/6jX/kt/8AZU/a0%2B4WZg6H/wAhqz/6%2Bo//AEIVVrrbHwB9ivYbz%2B1t3lSq%2B3yMZwc4%2B9UX/Ctv%2Bo1/5Lf/AGVL2sL7hZnL0V1H/Ctv%2Bo1/5Lf/AGVH/Ctv%2Bo1/5Lf/AGVP2tPuFmcvVrWP%2BPtP%2BvWD/wBFJW9/wrb/AKjX/kt/9lUt54A%2B1yiX%2B1tuIkTHkZ%2B6gXP3vbNL2sL7hZnISxRTxmKeJXU9Vdcg1g6v8JvhXr%2Bf7e%2BGnh%2B93fe%2B16NBJn/vpDXpH/Ctv%2Bo1/wCS3/2VH/Ctv%2Bo1/wCS3/2VKUqE1aST9Vf80yJ0oVFacU/VJ/mmeIav%2Bxz%2ByPr%2BTrf7Lnw7uierT%2BCrFm/MxZrB1n/gmv8AsFatpUU11%2Byh4MR3uZQzWukrBkBY8D93t9T%2BdfRv/Ctv%2Bo1/5Lf/AGVSv4A32Udn/a3%2Brld93kddwUY%2B9/s/rXHUwWVVfiowf/bkf/kTjqZTllX48PTfrCH/AMifIGq/8Ehv%2BCc%2BsMXu/wBmexQn/n113UYB%2BUdwtc9qv/BEj/gndfg/YfhNqmnk/daz8V3xK/TzZXr7b/4Vt/1Gv/Jb/wCyo/4Vt/1Gv/Jb/wCyrmnknD1T4sNT/wDAF%2BiRjHIcmpz54YaEX3UVF/fHlf4nwjB/wRH/AGX9Jm8/wj8XfizoJB%2BX%2Bx/GSR7foWt2NfTH7DP7Klr%2By/F4ltNP%2BPfxK8a2%2BrCyEcHxC8TjUV07yftGfs2I0EQfzRv4O7y09K9W/wCFbf8AUa/8lv8A7KtTw34b/wCEe87/AE3zvO2/8s9uMZ9z60qOUZNg5%2B0w1JRku3Mvw5rfgdcMBhYVo1VH3o7e9N2vps5tfgzUooorsO0KKKKAOR8M/AD4EeC7aez8HfBTwjpMN1LPLdRaZ4btYFmedBHMzBIwGMiAK5PLKADkCqL/ALLP7MUngiL4Zv8As5eA28Nwagb6Hw%2BfCFkbGO6K7DOsHleWJCvy7wu7HGcV3lFADYIILWBLa2hSOONAscaKAqqBgAAdABXiPgj4DeAfgLq/iuy8CW84bxV4y1HxNrVxdOrST31/KZ5TlVUbF3LGgxkJGoJY5Y%2B4Vg614J/tfU5dR/tPy/M2/J5OcYUDruHpThCl7VVJLWN7PteydvVI6aeNxlHC1cNTm1TqcvPFPSXI3KF115ZSbXZu/pxtFdR/wrb/AKjX/kt/9lR/wrb/AKjX/kt/9lXX7Wn3OOzOXq1N/wAgW3/6%2Bpv/AEGKt7/hW3/Ua/8AJb/7KpX8Ab7KOz/tb/Vyu%2B7yOu4KMfe/2f1pOrDuFmclRXUf8K2/6jX/AJLf/ZUf8K2/6jX/AJLf/ZU/a0%2B4WZy9WtP/AOPS%2B/69R/6Njre/4Vt/1Gv/ACW/%2ByqW38AeRFPF/a2fOiCZ8jp86tn73P3cfjSdWFtwszkqK6j/AIVt/wBRr/yW/wDsqP8AhW3/AFGv/Jb/AOyp%2B1p9wszl6taH/wAhqz/6%2Bo//AEIVvf8ACtv%2Bo1/5Lf8A2VS2PgD7Few3n9rbvKlV9vkYzg5x96k6sLbhZnJUV1H/AArb/qNf%2BS3/ANlR/wAK2/6jX/kt/wDZU/a0%2B4WZy9FdR/wrb/qNf%2BS3/wBlR/wrb/qNf%2BS3/wBlR7Wn3CzMHWP%2BPtP%2BvWD/ANFJVWutvPAH2uUS/wBrbcRImPIz91Aufve2ai/4Vt/1Gv8AyW/%2BypKrC24WZy9FdR/wrb/qNf8Akt/9lR/wrb/qNf8Akt/9lT9rT7hZmDqH/HpY/wDXqf8A0bJVWutuPAHnxQRf2tjyYimfI6/OzZ%2B9x97H4VF/wrb/AKjX/kt/9lSVWFtwszl6K6j/AIVt/wBRr/yW/wDsqP8AhW3/AFGv/Jb/AOyp%2B1p9wszBh/5Atx/19Q/%2Bgy1VrrU8AbLKSz/tb/WSo%2B7yOm0MMfe/2v0qL/hW3/Ua/wDJb/7KkqsO4WZy9FdR/wAK2/6jX/kt/wDZUf8ACtv%2Bo1/5Lf8A2VP2tPuFmYOj/wDH2/8A16z/APop6q11tn4A%2BySmX%2B1t2YnTHkY%2B8hXP3vfNRf8ACtv%2Bo1/5Lf8A2VL2sL7hZnL0V1H/AArb/qNf%2BS3/ANlR/wAK2/6jX/kt/wDZU/a0%2B4WZy9Wtc/5DV5/19Sf%2BhGt7/hW3/Ua/8lv/ALKpb7wB9tvZrz%2B1tvmys%2B3yM4yc4%2B9S9rC%2B4WZyVFdR/wAK2/6jX/kt/wDZUf8ACtv%2Bo1/5Lf8A2VP2tPuFmcvXeeDP%2BRatv%2BB/%2BhtWX/wrb/qNf%2BS3/wBlW9oum/2RpkWned5nl7vn24zliemT61nVnGUbIaTTLVFFFc5QUUUUAFFFFABRRRQAUUUUAFFFFABRRRQAUUUUAFFFFABRRRQAUUUUAFfPfxY/aj%2BKng74s67H4bsfDx8H%2BC/E/hPQfEdpfWE76jfz61d28DTW86zrHbpbpeW0m1oZTMVlTMfytX0JXlvjv9kzwH4/%2BKY%2BJ2peKfEFrFcX2j32t%2BGrK4t107WLvSrj7Rp9xcB4WmDwyiNv3UsayeREsgkVAKAPUqKKKACvLP2xPix8Vfgl8GZPiN8J9J0C6ubLWLFNUPiFpzHFZS3CRSGKOEqZZSXVVDOiruLkvsEUnqdcD%2B0d8BYP2j/hzJ8MtR%2BJ/iTwvY3F1DNeT%2BGEsDNcCKRZEjY3trcKqh0RvkVWJUDdgkEA76iqmgabeaPodnpOo6/d6rcW1skU2p36QrPduqgGWQQRxxB2IyQiIuScKowKt0AFc38Wbv4j2Xgme4%2BFd/4cstVWeEvqXitZXsrG18xTcXDxxMjTFIt7LH5kQZgAZEGTXSVw/wC0P8DNJ/aO%2BF118J/EHjLW9E0%2B%2Bu7aa9n0IWhkuY4Zkm%2BzSLd288UkEhQLLE8ZWRCyNlWYEAqfsrfFTxX8a/gZpPxK8Y2VlHdX91qCW93plrJBa6nZw308FpqMEcru8cN3bRw3aIzuVS4Ub3xuPodZHgXw1qvhDwxb%2BH9a8d6r4kuIC27V9ags47iYFiQGWzgghAUEKNsa8KM5OSdegAqK%2Ba%2BSxmfTIYpLkRMbeOeUojvj5QzBWKgnGSASB2PSpara1pFlr%2Bj3eg6kshtr22kt7gRTNGxR1Kth0IZTgnDAgjqCDQB49%2By98bvi58QPiT48%2BFPxck0K5vfBsembr7RvDV/owee4%2B1LNEltfzSTXFsjWy%2BVqCbYLrfIIxmBzXtVedfBP9nDSPgxr2p%2BLrj4k%2BKfF2s6no%2BnaQ%2Br%2BLLm1knh06xNw1tbL9mt4FYK93cuZHV5pGlJeRtqhfRaACiiigDxC9/ag8Wal%2B2ZofwD8G6Bp03hL7Fqdv4i1%2B4EjTvrEEEFwLS2wwULDFKhmZlcF7hI1KtDKK9vry29/Yv8A2aLn466L%2B0fY/B7w7p/i7Rbm%2BuRq2neH7KKa9uLtAsk9xKIfNklGCVfeCC7kk5r1KgAooooA%2Bf8A9qf9pT4ifBj4xaB4Zs/FOi%2BGPB8/hS/1bxB4p1r4carrsNpJBdWkarLLY3UEdhD5c0sjz3GY1EeSVANfQAIIyDkHoRXnPx8/Zx0/9oLT5tA1z4reMdE0fUdFutI8RaJ4f1C3S11qwuMCWGdZ4JTGSm9POtzDMFkYCQfLt9Ehhit4Ut4IwiIoVEUYCgcACgB1FFFAHlv7Xvx51b9n34WWfiPw3DbNq2t%2BJ9N0LS5LzSrm/iglurhUaZrW1InuikQkdYIirzOqRhlL7hvfs9fEW8%2BK3wh0rxxqXiLR9Vurh7qC6vtBsLq0t3lguZYHH2a7/f2sqtEVlt5SzwyrJEWYpuN34ufCrRvjB4SXwvqusahpc1tqVrqOl6xpDRC70%2B8t5llhni86OSMsGXBV0dHVmVlZWILfg58JtA%2BCngSLwJ4e1PUL9P7RvtRvtS1WSN7m%2Bvb27mvLq4lMaJGGknnlfaiIi7tqKqgKADqaKKKAKHim28U3fh%2B7tvBWsafp%2BqvFixvdU017y3hfP3pIY5oWkGM8CRD715/%2Byd8Qfit8UfhzqHjb4oax4e1GG58S3sPhbUfDmhT6dHeaXAwgjuXhmu7o5llinljdZNrQSQHarbq9LvLc3dpLarcSQmWNkE0JAdMjG5SQRkdRwawvhL8NfD/wY%2BFXhn4P%2BEpbmTSvCnh%2Bz0fTZLx1aZre2gSGMyFVVS5VASQoBOcAdKAOhooooAK%2Bav2Uf2xPiZ8cPjpf/Djxbp%2BjpY/2VrV7Eln4dvbI2LWOrR2McUN7cTPBrsbo7PJc2SrHbuiJIA08YH0rXlPwd/ZF8DfBfxra%2BMtF8Z%2BJNTTR9I1DSfCukavcWzWvh%2BwvruC6uba28qCOV1aS1tgDcSTOqwIqsoLbgD1aiiigAr5r%2BO/7aXij4OftHxfDjUdQ8L6fpCap4VsbXQtUsp21fxINY1L7BLd2MqzqiRWbSRvIvkzE7HDNCHjY/SleefET9nXSPid8QtO8Z%2BJPiR4rGl2F3pt7N4Lhv4f7IvLuwuWurO5kR4WmR45/LkxDLGsjW8PmK4QCgD0OiiigAooooAKKKKAMT4leN7H4Z/DnX/iRqdrJPbeH9Eu9SuIYjhpEghaVlHuQhArzH9mb42fGLxl421D4a/G%2BPw3JqieBdA8V2V14X0%2B4toYodSe%2BieydZ55jI8Elkf34KCVZl/dRlTn1/XNF0rxJot54d12xjurG/tZLa8tpRlZonUq6H2Kkg/WuB%2BAv7M3hj4CXV7qtj438SeJNRvNG03Rk1PxPc28s9vpdgJ/sdkhgghBSM3Nw29w8ztMxkkc4wAekUUUUAFeWaF8WPirN%2B2FrnwR8RaToEPhaHwRb6zoFxZtPJqEshufJla4ZisaLu3KsSKxAjDmQ%2BZ5cfqdebRfs6SxftIt%2B0mfjd4we5fRv7KPhdodK/sv7GGZxFxYi64lYy7vtG7dwSU%2BSgD0miiigArxj9sz4vfHH4HeBJviR8LW8INZ6bp0zjSdes7q5v/Eeqs8SWOjWSQyxLDLcuzxidjMVdo/3DLuI9nrzL4y/s0p8X/iT4Z%2BKUHxp8XeGdR8JWt5Fo8OhQaTPbpJchFkuTHqFjcgXAjQxLKu1ljlmQYEr7gD00dOlFNiRo41RpWcqoBdsZb3OAB%2BQp1ABXnH7UHjf4q/Dj4cSeN/hne6XaxaaXn1q5vfB2p%2BIbgQhCES207TXjmndpWTc/mBYkDuQwBK%2Bj1xvxc%2BEE3xSOlX2k/FPxT4P1PR55ns9W8K3NsJGSWIxyRSRXcE8EqEEMN8RZWRWRlOcgFv4I%2BOdU%2BJ/wY8I/EvW7Cxtb3xD4YsNTvLXS9RS8toZZ7aOV0hnjJWeMM5CyKSrqAw4NdPWF8MPhz4V%2BD/w28P/AAm8DWklvovhnRbXStJhlmMjpbW8SxRhnbl22oMseSck9a3aACsjx/468M/DHwTqnxC8Z6h9l0vR7KS6vZhGXYIgztRFBZ3PCqigszEKASQK16y/GfgjwX8R/DN14K%2BIfhDS9e0a%2BVVvdJ1rT47q1uArB1DxSqyOAyqwyDgqD1FAHnn7H3xm%2BKXxv%2BHes%2BI/jF4Q07QNa07xlqemHR9NdnFnBDKPKilcuwknRGCyOmEZ1YooUgV6vXA/AD9mb4N/sx6Trmg/BjwbY6LZ%2BIPEVzrN7a2GnW9tGs02PkRYI0AjQAKgIJVeMmu%2BoAKKKKAPn/8AZJ/aV%2BIfxe8aar4X%2BLXirRbHU0m1h9M8IRfDjVdIufsdnqr2i3Ud9eXTwajGI/I8w28YCPcx5KblVvoCvN/A37NeleD/AIpr8WdY%2BKXi/wAT31jp%2BoWHh618S39vNDotre3MNxcxQNHBHNKGa2t1D3MkzokKqrKC%2B70igAooooA%2BePiB%2B174i0T9rj/hRela34e0nRdIn0C11eXXPDmp3DahdapNKiQJf25%2BzaawVYRCLlX%2B1zy%2BSnlld5%2Bh68v%2BI37KPgf4l/EiL4h6p4r8QWUUt5o93rfh/Tp7ZbDWp9KvPtmnyXO%2BBpg0M4Vv3MsXmCNEl8xFC16hQAUUUUAeb/tUeOfiP8L/AISal8Svh54s0LTX0W1knuLXWvCs%2BqvqTkBYLS3SK/tNs0szJGu5mDNIowOtdl4BHjgeBdFHxOk0t/Ev9k23/CQvokMkdk195S%2BebdZGd1h8zfsDszBcAsTk1Q%2BKfwt0D4u6BY%2BGvEt7ew2th4k0nW0FlIimWfT7%2BC%2BgR9ytmMzW8e4DBIBAKnmuloAKKKKAPLv2uvjP4r%2BBXwpt/F/g2Kz%2B2XniXTNLM93o9zqhto7m5SJpY9PtHS41CQBvlt4GEjZLDIUg3P2UPi74h%2BOvwH0f4m%2BKrWzivr261C3l%2Bw20luki219cWySm3mZpbSR0hV3tZWMts7vDId8bVr/GX4O6L8aPD1jo%2Bo%2BItV0a80jWrfVtE1vRHhF1p95CTtlQTxSxNlWkRlkjdWWRgR0Im%2BDnwn8P/BTwFB4A8Oajf3sS399qF5qGqSo9ze3t7eTXt3cymNEQPLcXE0hCIiKXwqqoCgA6iiiigCh4p1a%2B0HwzqOuaXos2pXNlYTT2%2BnW5xJdSIhZYlP8AeYgKPc14T%2BxF%2B17rX7Rmtax4Q8T%2BK/CWuX%2Bm%2BEdB8QTXvg2wuLaCxfUTfRyaXOk08zfabaSxYOxaNj5yhoYmUg/QU8KXED28jOFkQqxjcqwBGOGBBB9xyK4L4Kfs96V8GtT1TxJc/EbxT4v1vVrCx0%2B517xfeW812LGyE32W1DQQQqyRtc3L73VpXe4kaSRyRgA9AooooAKKKKACiiigAooooAKKKKACiiigAooooAKKKKACiiigAooooAKKKKACiiigAooooAKKKKACiiigAooooAKKKKACiiigAooooAKKKKACiiigAooooAKKKKACiiigAooooAKKKKACiiigAooooAKKKKACiiigAooooAKKKKACiiigAooooAKKKKACiiigAooooAKKKKACiiigAooooAKKKKACiiigAooooAKKKKACiiigAooooAKKKKACiiigAooooAKKKKACiiigAooooAKKKKACiiigAooooAKKKKACiiigAooooAKKKKAP/9k%3D\">"
            ]
          },
          "metadata": {
            "tags": []
          }
        }
      ]
    },
    {
      "metadata": {
        "id": "aWNZ46pMFXfF",
        "colab_type": "text"
      },
      "cell_type": "markdown",
      "source": [
        "### Making predicition"
      ]
    },
    {
      "metadata": {
        "id": "jkkMtLis_Een",
        "colab_type": "code",
        "colab": {}
      },
      "cell_type": "code",
      "source": [
        "def predict(img_idx):\n",
        "  #given an image index, plot it and predict it's class\n",
        "  plt.imshow(X_val[img_idx])\n",
        "  print(\"predicited class is: %s\" % str(s.run(classes, {input_X: [X_val_flat[img_idx]]})[0]))"
      ],
      "execution_count": 0,
      "outputs": []
    },
    {
      "metadata": {
        "id": "gJP2bn4kB8Ja",
        "colab_type": "code",
        "colab": {
          "base_uri": "https://localhost:8080/",
          "height": 283
        },
        "outputId": "2ceb2932-86be-47cb-9a86-9d1628585dc0"
      },
      "cell_type": "code",
      "source": [
        "predict(0)"
      ],
      "execution_count": 13,
      "outputs": [
        {
          "output_type": "stream",
          "text": [
            "predicited class is: 3\n"
          ],
          "name": "stdout"
        },
        {
          "output_type": "display_data",
          "data": {
            "image/png": "[encoded data removed]",
            "text/plain": [
              "<Figure size 432x288 with 1 Axes>"
            ]
          },
          "metadata": {
            "tags": []
          }
        }
      ]
    },
    {
      "metadata": {
        "id": "Qhy9aJt3Cr4W",
        "colab_type": "code",
        "colab": {
          "base_uri": "https://localhost:8080/",
          "height": 283
        },
        "outputId": "86190420-4860-419a-f13a-b0362e40123b"
      },
      "cell_type": "code",
      "source": [
        "predict(100)"
      ],
      "execution_count": 14,
      "outputs": [
        {
          "output_type": "stream",
          "text": [
            "predicited class is: 7\n"
          ],
          "name": "stdout"
        },
        {
          "output_type": "display_data",
          "data": {
            "image/png": "[encoded data removed]",
            "text/plain": [
              "<Figure size 432x288 with 1 Axes>"
            ]
          },
          "metadata": {
            "tags": []
          }
        }
      ]
    },
    {
      "metadata": {
        "id": "xDh16_zhTRAJ",
        "colab_type": "code",
        "colab": {
          "base_uri": "https://localhost:8080/",
          "height": 283
        },
        "outputId": "0eacda0a-3931-4d5e-fe40-fd2c7d1f5dc8"
      },
      "cell_type": "code",
      "source": [
        "predict(4000)"
      ],
      "execution_count": 15,
      "outputs": [
        {
          "output_type": "stream",
          "text": [
            "predicited class is: 5\n"
          ],
          "name": "stdout"
        },
        {
          "output_type": "display_data",
          "data": {
            "image/png": "[encoded data removed]",
            "text/plain": [
              "<Figure size 432x288 with 1 Axes>"
            ]
          },
          "metadata": {
            "tags": []
          }
        }
      ]
    },
    {
      "metadata": {
        "id": "WC-Lh_ZTTaix",
        "colab_type": "code",
        "colab": {}
      },
      "cell_type": "code",
      "source": [
        ""
      ],
      "execution_count": 0,
      "outputs": []
    }
  ]
}